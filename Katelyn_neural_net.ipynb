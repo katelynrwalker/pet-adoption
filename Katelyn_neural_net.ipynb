{
 "cells": [
  {
   "cell_type": "code",
   "execution_count": 24,
   "metadata": {},
   "outputs": [],
   "source": [
    "import pandas as pd\n",
    "import matplotlib.pyplot as plt\n",
    "import feature_engineering\n",
    "import quadratic_weighted_kappa\n",
    "import qw_kappa_for_tensorflow\n",
    "\n",
    "from sklearn.model_selection import train_test_split\n",
    "\n",
    "import keras\n",
    "from keras.models import Sequential,Input,Model\n",
    "from keras.layers import Dense, Dropout, Flatten\n",
    "from keras.layers.normalization import BatchNormalization\n",
    "from keras.layers.advanced_activations import LeakyReLU\n",
    "from keras.utils import to_categorical\n",
    "from keras import regularizers\n",
    "\n",
    "%reload_ext autoreload\n",
    "%autoreload 2"
   ]
  },
  {
   "cell_type": "markdown",
   "metadata": {},
   "source": [
    "### Preparing the data"
   ]
  },
  {
   "cell_type": "code",
   "execution_count": 2,
   "metadata": {},
   "outputs": [],
   "source": [
    "data = pd.read_csv('data_minus_images/train.csv')"
   ]
  },
  {
   "cell_type": "code",
   "execution_count": 3,
   "metadata": {},
   "outputs": [],
   "source": [
    "pet_df = feature_engineering.add_everything(data)"
   ]
  },
  {
   "cell_type": "code",
   "execution_count": 4,
   "metadata": {},
   "outputs": [
    {
     "data": {
      "text/html": [
       "<div>\n",
       "<style scoped>\n",
       "    .dataframe tbody tr th:only-of-type {\n",
       "        vertical-align: middle;\n",
       "    }\n",
       "\n",
       "    .dataframe tbody tr th {\n",
       "        vertical-align: top;\n",
       "    }\n",
       "\n",
       "    .dataframe thead th {\n",
       "        text-align: right;\n",
       "    }\n",
       "</style>\n",
       "<table border=\"1\" class=\"dataframe\">\n",
       "  <thead>\n",
       "    <tr style=\"text-align: right;\">\n",
       "      <th></th>\n",
       "      <th>PetID</th>\n",
       "      <th>Type</th>\n",
       "      <th>Name</th>\n",
       "      <th>Age</th>\n",
       "      <th>Breed1</th>\n",
       "      <th>Breed2</th>\n",
       "      <th>Gender</th>\n",
       "      <th>Color1</th>\n",
       "      <th>Color2</th>\n",
       "      <th>Color3</th>\n",
       "      <th>...</th>\n",
       "      <th>score</th>\n",
       "      <th>language</th>\n",
       "      <th>BreedName</th>\n",
       "      <th>BreedGroup</th>\n",
       "      <th>BreedGroupID</th>\n",
       "      <th>purebred</th>\n",
       "      <th>desc_len</th>\n",
       "      <th>start_cap</th>\n",
       "      <th>num_colors</th>\n",
       "      <th>has_name</th>\n",
       "    </tr>\n",
       "  </thead>\n",
       "  <tbody>\n",
       "    <tr>\n",
       "      <th>0</th>\n",
       "      <td>86e1089a3</td>\n",
       "      <td>2</td>\n",
       "      <td>Nibble</td>\n",
       "      <td>3</td>\n",
       "      <td>299</td>\n",
       "      <td>0</td>\n",
       "      <td>1</td>\n",
       "      <td>1</td>\n",
       "      <td>7</td>\n",
       "      <td>0</td>\n",
       "      <td>...</td>\n",
       "      <td>0.3</td>\n",
       "      <td>en</td>\n",
       "      <td>Tabby</td>\n",
       "      <td>CAT</td>\n",
       "      <td>-1</td>\n",
       "      <td>1</td>\n",
       "      <td>359</td>\n",
       "      <td>1</td>\n",
       "      <td>2</td>\n",
       "      <td>1</td>\n",
       "    </tr>\n",
       "    <tr>\n",
       "      <th>1</th>\n",
       "      <td>1bf1f95ef</td>\n",
       "      <td>2</td>\n",
       "      <td>Mimi</td>\n",
       "      <td>12</td>\n",
       "      <td>299</td>\n",
       "      <td>0</td>\n",
       "      <td>2</td>\n",
       "      <td>3</td>\n",
       "      <td>6</td>\n",
       "      <td>7</td>\n",
       "      <td>...</td>\n",
       "      <td>0.0</td>\n",
       "      <td>None</td>\n",
       "      <td>Tabby</td>\n",
       "      <td>CAT</td>\n",
       "      <td>-1</td>\n",
       "      <td>1</td>\n",
       "      <td>40</td>\n",
       "      <td>1</td>\n",
       "      <td>3</td>\n",
       "      <td>1</td>\n",
       "    </tr>\n",
       "    <tr>\n",
       "      <th>2</th>\n",
       "      <td>987baa1c7</td>\n",
       "      <td>2</td>\n",
       "      <td>Tabby Male</td>\n",
       "      <td>48</td>\n",
       "      <td>299</td>\n",
       "      <td>0</td>\n",
       "      <td>1</td>\n",
       "      <td>1</td>\n",
       "      <td>2</td>\n",
       "      <td>7</td>\n",
       "      <td>...</td>\n",
       "      <td>0.3</td>\n",
       "      <td>en</td>\n",
       "      <td>Tabby</td>\n",
       "      <td>CAT</td>\n",
       "      <td>-1</td>\n",
       "      <td>1</td>\n",
       "      <td>707</td>\n",
       "      <td>1</td>\n",
       "      <td>3</td>\n",
       "      <td>1</td>\n",
       "    </tr>\n",
       "    <tr>\n",
       "      <th>3</th>\n",
       "      <td>5c546c236</td>\n",
       "      <td>2</td>\n",
       "      <td>Manja</td>\n",
       "      <td>4</td>\n",
       "      <td>299</td>\n",
       "      <td>0</td>\n",
       "      <td>2</td>\n",
       "      <td>1</td>\n",
       "      <td>2</td>\n",
       "      <td>0</td>\n",
       "      <td>...</td>\n",
       "      <td>0.4</td>\n",
       "      <td>en</td>\n",
       "      <td>Tabby</td>\n",
       "      <td>CAT</td>\n",
       "      <td>-1</td>\n",
       "      <td>1</td>\n",
       "      <td>130</td>\n",
       "      <td>1</td>\n",
       "      <td>2</td>\n",
       "      <td>1</td>\n",
       "    </tr>\n",
       "    <tr>\n",
       "      <th>4</th>\n",
       "      <td>c2346525a</td>\n",
       "      <td>2</td>\n",
       "      <td>Cham</td>\n",
       "      <td>8</td>\n",
       "      <td>299</td>\n",
       "      <td>0</td>\n",
       "      <td>1</td>\n",
       "      <td>3</td>\n",
       "      <td>0</td>\n",
       "      <td>0</td>\n",
       "      <td>...</td>\n",
       "      <td>0.5</td>\n",
       "      <td>en</td>\n",
       "      <td>Tabby</td>\n",
       "      <td>CAT</td>\n",
       "      <td>-1</td>\n",
       "      <td>1</td>\n",
       "      <td>99</td>\n",
       "      <td>1</td>\n",
       "      <td>1</td>\n",
       "      <td>1</td>\n",
       "    </tr>\n",
       "  </tbody>\n",
       "</table>\n",
       "<p>5 rows × 35 columns</p>\n",
       "</div>"
      ],
      "text/plain": [
       "       PetID  Type        Name  Age  Breed1  Breed2  Gender  Color1  Color2  \\\n",
       "0  86e1089a3     2      Nibble    3     299       0       1       1       7   \n",
       "1  1bf1f95ef     2        Mimi   12     299       0       2       3       6   \n",
       "2  987baa1c7     2  Tabby Male   48     299       0       1       1       2   \n",
       "3  5c546c236     2       Manja    4     299       0       2       1       2   \n",
       "4  c2346525a     2        Cham    8     299       0       1       3       0   \n",
       "\n",
       "   Color3   ...     score  language  BreedName  BreedGroup  BreedGroupID  \\\n",
       "0       0   ...       0.3        en      Tabby         CAT            -1   \n",
       "1       7   ...       0.0      None      Tabby         CAT            -1   \n",
       "2       7   ...       0.3        en      Tabby         CAT            -1   \n",
       "3       0   ...       0.4        en      Tabby         CAT            -1   \n",
       "4       0   ...       0.5        en      Tabby         CAT            -1   \n",
       "\n",
       "   purebred  desc_len  start_cap  num_colors has_name  \n",
       "0         1       359          1           2        1  \n",
       "1         1        40          1           3        1  \n",
       "2         1       707          1           3        1  \n",
       "3         1       130          1           2        1  \n",
       "4         1        99          1           1        1  \n",
       "\n",
       "[5 rows x 35 columns]"
      ]
     },
     "execution_count": 4,
     "metadata": {},
     "output_type": "execute_result"
    }
   ],
   "source": [
    "pet_df.head()"
   ]
  },
  {
   "cell_type": "code",
   "execution_count": null,
   "metadata": {},
   "outputs": [],
   "source": []
  },
  {
   "cell_type": "code",
   "execution_count": 5,
   "metadata": {},
   "outputs": [],
   "source": [
    "X = pet_df.drop(columns=['Name','RescuerID','Description','PetID','AdoptionSpeed', 'BreedName', 'BreedGroupID'])\n",
    "y = pet_df['AdoptionSpeed'].astype('str')"
   ]
  },
  {
   "cell_type": "code",
   "execution_count": 6,
   "metadata": {},
   "outputs": [],
   "source": [
    "cat_features = ['Type', 'Breed1', 'Breed2', 'Gender', 'Color1', 'Color2',\n",
    "       'Color3', 'MaturitySize', 'FurLength', 'Vaccinated', 'Dewormed',\n",
    "       'Sterilized', 'Health', 'State', 'language', 'BreedGroup']"
   ]
  },
  {
   "cell_type": "code",
   "execution_count": 7,
   "metadata": {},
   "outputs": [],
   "source": [
    "for feat in cat_features:\n",
    "    dummies = pd.get_dummies(X[feat], prefix=feat)\n",
    "    dummies.drop(dummies.columns[-1], axis=1, inplace=True)\n",
    "    X = X.drop(feat, axis=1).merge(dummies, left_index=True, right_index=True)"
   ]
  },
  {
   "cell_type": "code",
   "execution_count": null,
   "metadata": {},
   "outputs": [],
   "source": []
  },
  {
   "cell_type": "code",
   "execution_count": null,
   "metadata": {},
   "outputs": [],
   "source": []
  },
  {
   "cell_type": "markdown",
   "metadata": {},
   "source": [
    "### Continuous, with ReLU and dropouts"
   ]
  },
  {
   "cell_type": "code",
   "execution_count": 8,
   "metadata": {},
   "outputs": [],
   "source": [
    "X_train, X_test, y_train, y_test = train_test_split(X, y, test_size=0.20, random_state=42)"
   ]
  },
  {
   "cell_type": "code",
   "execution_count": 9,
   "metadata": {},
   "outputs": [
    {
     "name": "stdout",
     "output_type": "stream",
     "text": [
      "Train on 11990 samples, validate on 2998 samples\n",
      "Epoch 1/50\n",
      "11990/11990 [==============================] - 2s 207us/step - loss: 4.6068 - mean_absolute_error: 4.6068 - val_loss: 2.3303 - val_mean_absolute_error: 2.3303\n",
      "Epoch 2/50\n",
      "11990/11990 [==============================] - 1s 124us/step - loss: 2.2278 - mean_absolute_error: 2.2278 - val_loss: 2.0155 - val_mean_absolute_error: 2.0155\n",
      "Epoch 3/50\n",
      "11990/11990 [==============================] - 2s 155us/step - loss: 1.8138 - mean_absolute_error: 1.8138 - val_loss: 1.5485 - val_mean_absolute_error: 1.5485\n",
      "Epoch 4/50\n",
      "11990/11990 [==============================] - 2s 152us/step - loss: 1.5019 - mean_absolute_error: 1.5019 - val_loss: 1.3802 - val_mean_absolute_error: 1.3802\n",
      "Epoch 5/50\n",
      "11990/11990 [==============================] - 2s 136us/step - loss: 1.3080 - mean_absolute_error: 1.3080 - val_loss: 1.1948 - val_mean_absolute_error: 1.1948\n",
      "Epoch 6/50\n",
      "11990/11990 [==============================] - 2s 136us/step - loss: 1.1803 - mean_absolute_error: 1.1803 - val_loss: 1.0620 - val_mean_absolute_error: 1.0620\n",
      "Epoch 7/50\n",
      "11990/11990 [==============================] - 2s 138us/step - loss: 1.1074 - mean_absolute_error: 1.1074 - val_loss: 1.0278 - val_mean_absolute_error: 1.0278\n",
      "Epoch 8/50\n",
      "11990/11990 [==============================] - 2s 138us/step - loss: 1.0740 - mean_absolute_error: 1.0740 - val_loss: 1.0291 - val_mean_absolute_error: 1.0291\n",
      "Epoch 9/50\n",
      "11990/11990 [==============================] - 2s 139us/step - loss: 1.0649 - mean_absolute_error: 1.0649 - val_loss: 1.0294 - val_mean_absolute_error: 1.0294\n",
      "Epoch 10/50\n",
      "11990/11990 [==============================] - 2s 136us/step - loss: 1.0623 - mean_absolute_error: 1.0623 - val_loss: 1.0296 - val_mean_absolute_error: 1.0296\n",
      "Epoch 11/50\n",
      "11990/11990 [==============================] - 2s 138us/step - loss: 1.0530 - mean_absolute_error: 1.0530 - val_loss: 1.0296 - val_mean_absolute_error: 1.0296\n",
      "Epoch 12/50\n",
      "11990/11990 [==============================] - 2s 142us/step - loss: 1.0571 - mean_absolute_error: 1.0571 - val_loss: 1.0291 - val_mean_absolute_error: 1.0291\n",
      "Epoch 13/50\n",
      "11990/11990 [==============================] - 2s 149us/step - loss: 1.0508 - mean_absolute_error: 1.0508 - val_loss: 1.0293 - val_mean_absolute_error: 1.0293\n",
      "Epoch 14/50\n",
      "11990/11990 [==============================] - 2s 142us/step - loss: 1.0506 - mean_absolute_error: 1.0506 - val_loss: 1.0300 - val_mean_absolute_error: 1.0300\n",
      "Epoch 15/50\n",
      "11990/11990 [==============================] - 2s 169us/step - loss: 1.0509 - mean_absolute_error: 1.0509 - val_loss: 1.0292 - val_mean_absolute_error: 1.0292\n",
      "Epoch 16/50\n",
      "11990/11990 [==============================] - 2s 163us/step - loss: 1.0523 - mean_absolute_error: 1.0523 - val_loss: 1.0295 - val_mean_absolute_error: 1.0295\n",
      "Epoch 17/50\n",
      "11990/11990 [==============================] - 2s 138us/step - loss: 1.0493 - mean_absolute_error: 1.0493 - val_loss: 1.0296 - val_mean_absolute_error: 1.0296\n",
      "Epoch 18/50\n",
      "11990/11990 [==============================] - 2s 140us/step - loss: 1.0472 - mean_absolute_error: 1.0472 - val_loss: 1.0273 - val_mean_absolute_error: 1.0273\n",
      "Epoch 19/50\n",
      "11990/11990 [==============================] - 2s 138us/step - loss: 1.0496 - mean_absolute_error: 1.0496 - val_loss: 1.0292 - val_mean_absolute_error: 1.0292\n",
      "Epoch 20/50\n",
      "11990/11990 [==============================] - 2s 136us/step - loss: 1.0491 - mean_absolute_error: 1.0491 - val_loss: 1.0285 - val_mean_absolute_error: 1.0285\n",
      "Epoch 21/50\n",
      "11990/11990 [==============================] - 2s 129us/step - loss: 1.0507 - mean_absolute_error: 1.0507 - val_loss: 1.0291 - val_mean_absolute_error: 1.0291\n",
      "Epoch 22/50\n",
      "11990/11990 [==============================] - 2s 150us/step - loss: 1.0457 - mean_absolute_error: 1.0457 - val_loss: 1.0270 - val_mean_absolute_error: 1.0270\n",
      "Epoch 23/50\n",
      "11990/11990 [==============================] - 2s 148us/step - loss: 1.0458 - mean_absolute_error: 1.0458 - val_loss: 1.0261 - val_mean_absolute_error: 1.0261\n",
      "Epoch 24/50\n",
      "11990/11990 [==============================] - 2s 155us/step - loss: 1.0443 - mean_absolute_error: 1.0443 - val_loss: 1.0263 - val_mean_absolute_error: 1.0263\n",
      "Epoch 25/50\n",
      "11990/11990 [==============================] - 2s 152us/step - loss: 1.0483 - mean_absolute_error: 1.0483 - val_loss: 1.0269 - val_mean_absolute_error: 1.0269\n",
      "Epoch 26/50\n",
      "11990/11990 [==============================] - 2s 147us/step - loss: 1.0479 - mean_absolute_error: 1.0479 - val_loss: 1.0278 - val_mean_absolute_error: 1.0278\n",
      "Epoch 27/50\n",
      "11990/11990 [==============================] - 2s 138us/step - loss: 1.0455 - mean_absolute_error: 1.0455 - val_loss: 1.0272 - val_mean_absolute_error: 1.0272\n",
      "Epoch 28/50\n",
      "11990/11990 [==============================] - 2s 160us/step - loss: 1.0431 - mean_absolute_error: 1.0431 - val_loss: 1.0275 - val_mean_absolute_error: 1.0275\n",
      "Epoch 29/50\n",
      "11990/11990 [==============================] - 2s 153us/step - loss: 1.0429 - mean_absolute_error: 1.0429 - val_loss: 1.0271 - val_mean_absolute_error: 1.0271\n",
      "Epoch 30/50\n",
      "11990/11990 [==============================] - 2s 153us/step - loss: 1.0443 - mean_absolute_error: 1.0443 - val_loss: 1.0276 - val_mean_absolute_error: 1.0276\n",
      "Epoch 31/50\n",
      "11990/11990 [==============================] - 2s 162us/step - loss: 1.0452 - mean_absolute_error: 1.0452 - val_loss: 1.0267 - val_mean_absolute_error: 1.0267\n",
      "Epoch 32/50\n",
      "11990/11990 [==============================] - 2s 153us/step - loss: 1.0427 - mean_absolute_error: 1.0427 - val_loss: 1.0279 - val_mean_absolute_error: 1.0279\n",
      "Epoch 33/50\n",
      "11990/11990 [==============================] - 2s 152us/step - loss: 1.0443 - mean_absolute_error: 1.0443 - val_loss: 1.0274 - val_mean_absolute_error: 1.0274\n",
      "Epoch 34/50\n",
      "11990/11990 [==============================] - 2s 152us/step - loss: 1.0450 - mean_absolute_error: 1.0450 - val_loss: 1.0273 - val_mean_absolute_error: 1.0273\n",
      "Epoch 35/50\n",
      "11990/11990 [==============================] - 2s 155us/step - loss: 1.0457 - mean_absolute_error: 1.0457 - val_loss: 1.0275 - val_mean_absolute_error: 1.0275\n",
      "Epoch 36/50\n",
      "11990/11990 [==============================] - 2s 155us/step - loss: 1.0416 - mean_absolute_error: 1.0416 - val_loss: 1.0274 - val_mean_absolute_error: 1.0274\n",
      "Epoch 37/50\n",
      "11990/11990 [==============================] - 2s 154us/step - loss: 1.0410 - mean_absolute_error: 1.0410 - val_loss: 1.0269 - val_mean_absolute_error: 1.0269\n",
      "Epoch 38/50\n",
      "11990/11990 [==============================] - 2s 154us/step - loss: 1.0405 - mean_absolute_error: 1.0405 - val_loss: 1.0269 - val_mean_absolute_error: 1.0269\n",
      "Epoch 39/50\n",
      "11990/11990 [==============================] - 2s 160us/step - loss: 1.0404 - mean_absolute_error: 1.0404 - val_loss: 1.0269 - val_mean_absolute_error: 1.0269\n",
      "Epoch 40/50\n",
      "11990/11990 [==============================] - 2s 148us/step - loss: 1.0406 - mean_absolute_error: 1.0406 - val_loss: 1.0236 - val_mean_absolute_error: 1.0236\n",
      "Epoch 41/50\n",
      "11990/11990 [==============================] - 2s 149us/step - loss: 1.0439 - mean_absolute_error: 1.0439 - val_loss: 1.0257 - val_mean_absolute_error: 1.0257\n",
      "Epoch 42/50\n",
      "11990/11990 [==============================] - 2s 149us/step - loss: 1.0382 - mean_absolute_error: 1.0382 - val_loss: 1.0236 - val_mean_absolute_error: 1.0236\n",
      "Epoch 43/50\n",
      "11990/11990 [==============================] - 2s 152us/step - loss: 1.0394 - mean_absolute_error: 1.0394 - val_loss: 1.0238 - val_mean_absolute_error: 1.0238\n",
      "Epoch 44/50\n",
      "11990/11990 [==============================] - 2s 152us/step - loss: 1.0385 - mean_absolute_error: 1.0385 - val_loss: 1.0233 - val_mean_absolute_error: 1.0233\n",
      "Epoch 45/50\n",
      "11990/11990 [==============================] - 2s 152us/step - loss: 1.0375 - mean_absolute_error: 1.0375 - val_loss: 1.0251 - val_mean_absolute_error: 1.0251\n",
      "Epoch 46/50\n",
      "11990/11990 [==============================] - 2s 158us/step - loss: 1.0365 - mean_absolute_error: 1.0365 - val_loss: 1.0239 - val_mean_absolute_error: 1.0239\n",
      "Epoch 47/50\n",
      "11990/11990 [==============================] - 2s 146us/step - loss: 1.0367 - mean_absolute_error: 1.0367 - val_loss: 1.0242 - val_mean_absolute_error: 1.0242\n",
      "Epoch 48/50\n",
      "11990/11990 [==============================] - 2s 150us/step - loss: 1.0344 - mean_absolute_error: 1.0344 - val_loss: 1.0230 - val_mean_absolute_error: 1.0230\n",
      "Epoch 49/50\n",
      "11990/11990 [==============================] - 2s 150us/step - loss: 1.0363 - mean_absolute_error: 1.0363 - val_loss: 1.0222 - val_mean_absolute_error: 1.0222\n",
      "Epoch 50/50\n",
      "11990/11990 [==============================] - 2s 144us/step - loss: 1.0315 - mean_absolute_error: 1.0315 - val_loss: 1.0144 - val_mean_absolute_error: 1.0144\n"
     ]
    }
   ],
   "source": [
    "nn = Sequential()\n",
    "\n",
    "# input layer\n",
    "nn.add(Dense(370, activation='relu', input_dim=(X_train.shape[1])))\n",
    "\n",
    "# hidden lyaers\n",
    "nn.add(Dropout(0.5))\n",
    "nn.add(Dense(256, activation='relu'))\n",
    "nn.add(Dropout(0.5))\n",
    "nn.add(Dense(128, activation='relu'))\n",
    "nn.add(Dropout(0.5))\n",
    "nn.add(Dense(64, activation='relu'))\n",
    "nn.add(Dropout(0.5))\n",
    "nn.add(Dense(32, activation='relu'))\n",
    "nn.add(Dropout(0.5))\n",
    "nn.add(Dense(4, activation='relu'))\n",
    "\n",
    "# output layer\n",
    "nn.add(Dense(1,activation='linear'))\n",
    "\n",
    "nn.compile(loss='mae', optimizer=keras.optimizers.Adam(), metrics=['mae'])\n",
    "\n",
    "trained = nn.fit(X_train, y_train, batch_size=64,epochs=50,verbose=1,validation_data=(X_test, y_test))"
   ]
  },
  {
   "cell_type": "code",
   "execution_count": 10,
   "metadata": {},
   "outputs": [
    {
     "data": {
      "image/png": "[encoded data removed]",
      "text/plain": [
       "<Figure size 432x288 with 1 Axes>"
      ]
     },
     "metadata": {
      "needs_background": "light"
     },
     "output_type": "display_data"
    }
   ],
   "source": [
    "y_predict = nn.predict(X_test)\n",
    "y_predict = y_predict.reshape((1,-1))\n",
    "y_predict = y_predict.round()[0]\n",
    "plt.hist(y_predict)\n",
    "plt.show()"
   ]
  },
  {
   "cell_type": "code",
   "execution_count": 11,
   "metadata": {},
   "outputs": [
    {
     "data": {
      "text/plain": [
       "0.018645559686559232"
      ]
     },
     "execution_count": 11,
     "metadata": {},
     "output_type": "execute_result"
    }
   ],
   "source": [
    "quadratic_weighted_kappa.quadratic_weighted_kappa(y_predict, y_test)"
   ]
  },
  {
   "cell_type": "markdown",
   "metadata": {},
   "source": [
    "Note Alex re-binned the predictions rather than rounding and got a better score."
   ]
  },
  {
   "cell_type": "code",
   "execution_count": null,
   "metadata": {},
   "outputs": [],
   "source": []
  },
  {
   "cell_type": "markdown",
   "metadata": {},
   "source": [
    "### Categorical, with SELU activation and regularization"
   ]
  },
  {
   "cell_type": "code",
   "execution_count": 12,
   "metadata": {},
   "outputs": [],
   "source": [
    "y_one = pd.get_dummies(y)"
   ]
  },
  {
   "cell_type": "code",
   "execution_count": 13,
   "metadata": {},
   "outputs": [],
   "source": [
    "X_train, X_test, y_train, y_test = train_test_split(X, y_one, test_size=0.20, random_state=42)"
   ]
  },
  {
   "cell_type": "code",
   "execution_count": 14,
   "metadata": {},
   "outputs": [],
   "source": [
    "y_test_class = y_test.idxmax(axis=1)"
   ]
  },
  {
   "cell_type": "code",
   "execution_count": null,
   "metadata": {},
   "outputs": [],
   "source": []
  },
  {
   "cell_type": "code",
   "execution_count": 38,
   "metadata": {},
   "outputs": [],
   "source": [
    "nn = Sequential()\n",
    "nn.add(Dense(256, activation='selu', input_dim=(X_train.shape[1]),\n",
    "                kernel_regularizer=regularizers.l2(0.01),\n",
    "                activity_regularizer=regularizers.l1(0.01)))\n",
    "nn.add(Dense(64, activation='selu',\n",
    "                kernel_regularizer=regularizers.l2(0.01),\n",
    "                activity_regularizer=regularizers.l1(0.01)))\n",
    "nn.add(Dense(32, activation='selu'))\n",
    "nn.add(BatchNormalization())\n",
    "nn.add(Dropout(0.5))\n",
    "nn.add(Dense(5,activation='sigmoid'))"
   ]
  },
  {
   "cell_type": "code",
   "execution_count": 39,
   "metadata": {},
   "outputs": [
    {
     "name": "stdout",
     "output_type": "stream",
     "text": [
      "Train on 11990 samples, validate on 2998 samples\n",
      "Epoch 1/40\n",
      "11990/11990 [==============================] - 3s 254us/step - loss: 132.5148 - mean_absolute_error: 0.4755 - val_loss: 28.6247 - val_mean_absolute_error: 0.4448\n",
      "Epoch 2/40\n",
      "11990/11990 [==============================] - 2s 156us/step - loss: 22.6699 - mean_absolute_error: 0.4320 - val_loss: 20.1719 - val_mean_absolute_error: 0.3707\n",
      "Epoch 3/40\n",
      "11990/11990 [==============================] - 2s 154us/step - loss: 18.6565 - mean_absolute_error: 0.3909 - val_loss: 22.5509 - val_mean_absolute_error: 0.3846\n",
      "Epoch 4/40\n",
      "11990/11990 [==============================] - 2s 191us/step - loss: 17.4490 - mean_absolute_error: 0.3432 - val_loss: 16.2696 - val_mean_absolute_error: 0.2960\n",
      "Epoch 5/40\n",
      "11990/11990 [==============================] - 2s 180us/step - loss: 17.5081 - mean_absolute_error: 0.2864 - val_loss: 18.2946 - val_mean_absolute_error: 0.3261\n",
      "Epoch 6/40\n",
      "11990/11990 [==============================] - 2s 183us/step - loss: 18.9603 - mean_absolute_error: 0.2463 - val_loss: 20.1119 - val_mean_absolute_error: 0.2247\n",
      "Epoch 7/40\n",
      "11990/11990 [==============================] - 2s 173us/step - loss: 20.3070 - mean_absolute_error: 0.2272 - val_loss: 26.8641 - val_mean_absolute_error: 0.2162\n",
      "Epoch 8/40\n",
      "11990/11990 [==============================] - 2s 144us/step - loss: 21.4919 - mean_absolute_error: 0.2131 - val_loss: 21.7781 - val_mean_absolute_error: 0.2083\n",
      "Epoch 9/40\n",
      "11990/11990 [==============================] - 2s 143us/step - loss: 20.6410 - mean_absolute_error: 0.2099 - val_loss: 18.7087 - val_mean_absolute_error: 0.2037\n",
      "Epoch 10/40\n",
      "11990/11990 [==============================] - 2s 160us/step - loss: 19.6084 - mean_absolute_error: 0.2083 - val_loss: 22.3800 - val_mean_absolute_error: 0.2078\n",
      "Epoch 11/40\n",
      "11990/11990 [==============================] - 2s 143us/step - loss: 19.4530 - mean_absolute_error: 0.2059 - val_loss: 19.6346 - val_mean_absolute_error: 0.2027\n",
      "Epoch 12/40\n",
      "11990/11990 [==============================] - 2s 145us/step - loss: 20.7197 - mean_absolute_error: 0.2053 - val_loss: 22.2262 - val_mean_absolute_error: 0.2086\n",
      "Epoch 13/40\n",
      "11990/11990 [==============================] - 2s 143us/step - loss: 19.8826 - mean_absolute_error: 0.2049 - val_loss: 15.7587 - val_mean_absolute_error: 0.2031\n",
      "Epoch 14/40\n",
      "11990/11990 [==============================] - 2s 146us/step - loss: 19.0676 - mean_absolute_error: 0.2025 - val_loss: 31.2284 - val_mean_absolute_error: 0.2082\n",
      "Epoch 15/40\n",
      "11990/11990 [==============================] - 2s 144us/step - loss: 25.8226 - mean_absolute_error: 0.2006 - val_loss: 33.6331 - val_mean_absolute_error: 0.2114\n",
      "Epoch 16/40\n",
      "11990/11990 [==============================] - 2s 144us/step - loss: 24.4547 - mean_absolute_error: 0.2021 - val_loss: 24.5468 - val_mean_absolute_error: 0.2050\n",
      "Epoch 17/40\n",
      "11990/11990 [==============================] - 2s 146us/step - loss: 26.2902 - mean_absolute_error: 0.2009 - val_loss: 25.7782 - val_mean_absolute_error: 0.2034\n",
      "Epoch 18/40\n",
      "11990/11990 [==============================] - 2s 145us/step - loss: 26.5428 - mean_absolute_error: 0.1992 - val_loss: 110.1472 - val_mean_absolute_error: 0.2499\n",
      "Epoch 19/40\n",
      "11990/11990 [==============================] - 2s 145us/step - loss: 44.1904 - mean_absolute_error: 0.2022 - val_loss: 20.4625 - val_mean_absolute_error: 0.1995\n",
      "Epoch 20/40\n",
      "11990/11990 [==============================] - 2s 145us/step - loss: 29.3701 - mean_absolute_error: 0.2015 - val_loss: 34.0000 - val_mean_absolute_error: 0.2000\n",
      "Epoch 21/40\n",
      "11990/11990 [==============================] - 2s 145us/step - loss: 18.3920 - mean_absolute_error: 0.2001 - val_loss: 16.8353 - val_mean_absolute_error: 0.1991\n",
      "Epoch 22/40\n",
      "11990/11990 [==============================] - 2s 146us/step - loss: 23.1456 - mean_absolute_error: 0.1994 - val_loss: 19.8652 - val_mean_absolute_error: 0.1988\n",
      "Epoch 23/40\n",
      "11990/11990 [==============================] - 2s 146us/step - loss: 21.9368 - mean_absolute_error: 0.1992 - val_loss: 15.1445 - val_mean_absolute_error: 0.1976\n",
      "Epoch 24/40\n",
      "11990/11990 [==============================] - 2s 144us/step - loss: 27.8650 - mean_absolute_error: 0.1991 - val_loss: 24.8931 - val_mean_absolute_error: 0.1993\n",
      "Epoch 25/40\n",
      "11990/11990 [==============================] - 2s 165us/step - loss: 35.5240 - mean_absolute_error: 0.1987 - val_loss: 30.9136 - val_mean_absolute_error: 0.1976\n",
      "Epoch 26/40\n",
      "11990/11990 [==============================] - 2s 206us/step - loss: 22.8360 - mean_absolute_error: 0.1984 - val_loss: 20.0755 - val_mean_absolute_error: 0.1990\n",
      "Epoch 27/40\n",
      "11990/11990 [==============================] - 2s 176us/step - loss: 23.1673 - mean_absolute_error: 0.1994 - val_loss: 11.7119 - val_mean_absolute_error: 0.1973\n",
      "Epoch 28/40\n",
      "11990/11990 [==============================] - 2s 149us/step - loss: 25.7813 - mean_absolute_error: 0.2000 - val_loss: 53.1422 - val_mean_absolute_error: 0.2323\n",
      "Epoch 29/40\n",
      "11990/11990 [==============================] - 2s 146us/step - loss: 26.3298 - mean_absolute_error: 0.2004 - val_loss: 16.9815 - val_mean_absolute_error: 0.1995\n",
      "Epoch 30/40\n",
      "11990/11990 [==============================] - 2s 146us/step - loss: 29.3252 - mean_absolute_error: 0.1994 - val_loss: 30.6057 - val_mean_absolute_error: 0.2127\n",
      "Epoch 31/40\n",
      "11990/11990 [==============================] - 2s 168us/step - loss: 23.8520 - mean_absolute_error: 0.1991 - val_loss: 23.1008 - val_mean_absolute_error: 0.2001\n",
      "Epoch 32/40\n",
      "11990/11990 [==============================] - 2s 153us/step - loss: 25.5695 - mean_absolute_error: 0.1993 - val_loss: 25.4850 - val_mean_absolute_error: 0.2023\n",
      "Epoch 33/40\n",
      "11990/11990 [==============================] - 2s 193us/step - loss: 23.4942 - mean_absolute_error: 0.1999 - val_loss: 29.2174 - val_mean_absolute_error: 0.2000\n",
      "Epoch 34/40\n",
      "11990/11990 [==============================] - 2s 167us/step - loss: 19.1475 - mean_absolute_error: 0.2000 - val_loss: 20.5089 - val_mean_absolute_error: 0.1995\n",
      "Epoch 35/40\n",
      "11990/11990 [==============================] - 2s 168us/step - loss: 21.6710 - mean_absolute_error: 0.1999 - val_loss: 17.5861 - val_mean_absolute_error: 0.1988\n",
      "Epoch 36/40\n",
      "11990/11990 [==============================] - 2s 171us/step - loss: 23.0121 - mean_absolute_error: 0.1994 - val_loss: 14.4638 - val_mean_absolute_error: 0.1998\n",
      "Epoch 37/40\n",
      "11990/11990 [==============================] - 2s 166us/step - loss: 32.0301 - mean_absolute_error: 0.1996 - val_loss: 25.2007 - val_mean_absolute_error: 0.1997\n",
      "Epoch 38/40\n",
      "11990/11990 [==============================] - 2s 169us/step - loss: 30.9442 - mean_absolute_error: 0.1995 - val_loss: 15.0256 - val_mean_absolute_error: 0.1995\n",
      "Epoch 39/40\n",
      "11990/11990 [==============================] - 2s 176us/step - loss: 33.2027 - mean_absolute_error: 0.1992 - val_loss: 56.4334 - val_mean_absolute_error: 0.2205\n",
      "Epoch 40/40\n",
      "11990/11990 [==============================] - 2s 177us/step - loss: 27.5781 - mean_absolute_error: 0.1993 - val_loss: 36.3160 - val_mean_absolute_error: 0.2002\n"
     ]
    }
   ],
   "source": [
    "nn.compile(loss=qw_kappa_for_tensorflow.kappa_loss, optimizer=keras.optimizers.Adam(), metrics=['mae'])\n",
    "\n",
    "trained = nn.fit(X_train, y_train, batch_size=32, epochs=40, verbose=1, validation_data=(X_test, y_test))\n",
    "\n",
    "#nn.evaluate(X_test, y_test)"
   ]
  },
  {
   "cell_type": "code",
   "execution_count": 40,
   "metadata": {},
   "outputs": [],
   "source": [
    "y_predict = nn.predict_classes(X_test)\n",
    "#y_predict = y_predict.reshape((1,-1))\n",
    "#y_predict = y_predict.round()[0]"
   ]
  },
  {
   "cell_type": "code",
   "execution_count": 41,
   "metadata": {},
   "outputs": [
    {
     "data": {
      "text/plain": [
       "array([1, 1, 1, ..., 1, 4, 1])"
      ]
     },
     "execution_count": 41,
     "metadata": {},
     "output_type": "execute_result"
    }
   ],
   "source": [
    "y_predict"
   ]
  },
  {
   "cell_type": "code",
   "execution_count": 42,
   "metadata": {},
   "outputs": [
    {
     "data": {
      "image/png": "[encoded data removed]",
      "text/plain": [
       "<Figure size 432x288 with 1 Axes>"
      ]
     },
     "metadata": {
      "needs_background": "light"
     },
     "output_type": "display_data"
    }
   ],
   "source": [
    "plt.hist(y_predict)\n",
    "plt.show()"
   ]
  },
  {
   "cell_type": "code",
   "execution_count": 37,
   "metadata": {},
   "outputs": [
    {
     "data": {
      "text/plain": [
       "0.14258772229825345"
      ]
     },
     "execution_count": 37,
     "metadata": {},
     "output_type": "execute_result"
    }
   ],
   "source": [
    "quadratic_weighted_kappa.quadratic_weighted_kappa(y_predict, y_test_class)"
   ]
  },
  {
   "cell_type": "code",
   "execution_count": 311,
   "metadata": {},
   "outputs": [
    {
     "data": {
      "image/png": "[encoded data removed]",
      "text/plain": [
       "<Figure size 432x288 with 1 Axes>"
      ]
     },
     "metadata": {
      "needs_background": "light"
     },
     "output_type": "display_data"
    }
   ],
   "source": [
    "plt.hist(y_test_class.astype('int'))\n",
    "plt.show()"
   ]
  },
  {
   "cell_type": "code",
   "execution_count": null,
   "metadata": {},
   "outputs": [],
   "source": []
  },
  {
   "cell_type": "markdown",
   "metadata": {},
   "source": [
    "### Continuous, tanh activation function"
   ]
  },
  {
   "cell_type": "code",
   "execution_count": 147,
   "metadata": {},
   "outputs": [
    {
     "data": {
      "text/plain": [
       "<keras.callbacks.History at 0x1a3c9cfb00>"
      ]
     },
     "execution_count": 147,
     "metadata": {},
     "output_type": "execute_result"
    }
   ],
   "source": [
    "model = Sequential()\n",
    "model.add(Dense(25, activation = 'tanh', input_dim=(X_train.shape[1])))\n",
    "model.add(Dropout(0.5))\n",
    "model.add(Dense(40, activation = 'tanh'))\n",
    "model.add(Dense(units=1, activation = 'linear'))\n",
    "model.compile(loss='mae', optimizer='Adam', metrics=['mae'])\n",
    "model.fit(X_train, y_train, batch_size=64,epochs=30,verbose=0,validation_data=(X_test, y_test))"
   ]
  },
  {
   "cell_type": "code",
   "execution_count": 148,
   "metadata": {},
   "outputs": [],
   "source": [
    "y_predict = model.predict(X_test)\n",
    "y_predict = y_predict.reshape((1,-1))\n",
    "y_predict = y_predict.round()[0]"
   ]
  },
  {
   "cell_type": "code",
   "execution_count": 149,
   "metadata": {},
   "outputs": [
    {
     "data": {
      "image/png": "[encoded data removed]",
      "text/plain": [
       "<Figure size 432x288 with 1 Axes>"
      ]
     },
     "metadata": {
      "needs_background": "light"
     },
     "output_type": "display_data"
    }
   ],
   "source": [
    "plt.hist(y_predict)\n",
    "plt.show()"
   ]
  },
  {
   "cell_type": "code",
   "execution_count": 150,
   "metadata": {},
   "outputs": [
    {
     "data": {
      "text/plain": [
       "0.19797645910988892"
      ]
     },
     "execution_count": 150,
     "metadata": {},
     "output_type": "execute_result"
    }
   ],
   "source": [
    "quadratic_weighted_kappa.quadratic_weighted_kappa(y_predict, y_test)"
   ]
  },
  {
   "cell_type": "code",
   "execution_count": null,
   "metadata": {},
   "outputs": [],
   "source": []
  }
 ],
 "metadata": {
  "kernelspec": {
   "display_name": "Python 3",
   "language": "python",
   "name": "python3"
  },
  "language_info": {
   "codemirror_mode": {
    "name": "ipython",
    "version": 3
   },
   "file_extension": ".py",
   "mimetype": "text/x-python",
   "name": "python",
   "nbconvert_exporter": "python",
   "pygments_lexer": "ipython3",
   "version": "3.6.6"
  }
 },
 "nbformat": 4,
 "nbformat_minor": 2
}
