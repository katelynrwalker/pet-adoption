{
 "cells": [
  {
   "cell_type": "code",
   "execution_count": 25,
   "metadata": {},
   "outputs": [],
   "source": [
    "import pandas as pd\n",
    "import feature_engineering\n",
    "import quadratic_weighted_kappa\n",
    "\n",
    "from sklearn.model_selection import train_test_split\n",
    "\n",
    "import keras\n",
    "from keras.models import Sequential,Input,Model\n",
    "from keras.layers import Dense, Dropout, Flatten\n",
    "from keras.layers.normalization import BatchNormalization\n",
    "from keras.layers.advanced_activations import LeakyReLU\n",
    "from keras.utils import to_categorical\n",
    "\n",
    "%reload_ext autoreload\n",
    "%autoreload 2"
   ]
  },
  {
   "cell_type": "code",
   "execution_count": 13,
   "metadata": {},
   "outputs": [],
   "source": [
    "data = pd.read_csv('data_minus_images/train.csv')"
   ]
  },
  {
   "cell_type": "code",
   "execution_count": 14,
   "metadata": {},
   "outputs": [],
   "source": [
    "pet_df = feature_engineering.add_everything(data)"
   ]
  },
  {
   "cell_type": "code",
   "execution_count": 15,
   "metadata": {},
   "outputs": [
    {
     "data": {
      "text/html": [
       "<div>\n",
       "<style scoped>\n",
       "    .dataframe tbody tr th:only-of-type {\n",
       "        vertical-align: middle;\n",
       "    }\n",
       "\n",
       "    .dataframe tbody tr th {\n",
       "        vertical-align: top;\n",
       "    }\n",
       "\n",
       "    .dataframe thead th {\n",
       "        text-align: right;\n",
       "    }\n",
       "</style>\n",
       "<table border=\"1\" class=\"dataframe\">\n",
       "  <thead>\n",
       "    <tr style=\"text-align: right;\">\n",
       "      <th></th>\n",
       "      <th>PetID</th>\n",
       "      <th>Type</th>\n",
       "      <th>Name</th>\n",
       "      <th>Age</th>\n",
       "      <th>Breed1</th>\n",
       "      <th>Breed2</th>\n",
       "      <th>Gender</th>\n",
       "      <th>Color1</th>\n",
       "      <th>Color2</th>\n",
       "      <th>Color3</th>\n",
       "      <th>...</th>\n",
       "      <th>score</th>\n",
       "      <th>language</th>\n",
       "      <th>BreedName</th>\n",
       "      <th>BreedGroup</th>\n",
       "      <th>BreedGroupID</th>\n",
       "      <th>purebred</th>\n",
       "      <th>desc_len</th>\n",
       "      <th>start_cap</th>\n",
       "      <th>num_colors</th>\n",
       "      <th>has_name</th>\n",
       "    </tr>\n",
       "  </thead>\n",
       "  <tbody>\n",
       "    <tr>\n",
       "      <th>0</th>\n",
       "      <td>86e1089a3</td>\n",
       "      <td>2</td>\n",
       "      <td>Nibble</td>\n",
       "      <td>3</td>\n",
       "      <td>299</td>\n",
       "      <td>0</td>\n",
       "      <td>1</td>\n",
       "      <td>1</td>\n",
       "      <td>7</td>\n",
       "      <td>0</td>\n",
       "      <td>...</td>\n",
       "      <td>0.3</td>\n",
       "      <td>en</td>\n",
       "      <td>Tabby</td>\n",
       "      <td>CAT</td>\n",
       "      <td>-1</td>\n",
       "      <td>1</td>\n",
       "      <td>359</td>\n",
       "      <td>1</td>\n",
       "      <td>2</td>\n",
       "      <td>1</td>\n",
       "    </tr>\n",
       "    <tr>\n",
       "      <th>1</th>\n",
       "      <td>1bf1f95ef</td>\n",
       "      <td>2</td>\n",
       "      <td>Mimi</td>\n",
       "      <td>12</td>\n",
       "      <td>299</td>\n",
       "      <td>0</td>\n",
       "      <td>2</td>\n",
       "      <td>3</td>\n",
       "      <td>6</td>\n",
       "      <td>7</td>\n",
       "      <td>...</td>\n",
       "      <td>0.0</td>\n",
       "      <td>None</td>\n",
       "      <td>Tabby</td>\n",
       "      <td>CAT</td>\n",
       "      <td>-1</td>\n",
       "      <td>1</td>\n",
       "      <td>40</td>\n",
       "      <td>1</td>\n",
       "      <td>3</td>\n",
       "      <td>1</td>\n",
       "    </tr>\n",
       "    <tr>\n",
       "      <th>2</th>\n",
       "      <td>987baa1c7</td>\n",
       "      <td>2</td>\n",
       "      <td>Tabby Male</td>\n",
       "      <td>48</td>\n",
       "      <td>299</td>\n",
       "      <td>0</td>\n",
       "      <td>1</td>\n",
       "      <td>1</td>\n",
       "      <td>2</td>\n",
       "      <td>7</td>\n",
       "      <td>...</td>\n",
       "      <td>0.3</td>\n",
       "      <td>en</td>\n",
       "      <td>Tabby</td>\n",
       "      <td>CAT</td>\n",
       "      <td>-1</td>\n",
       "      <td>1</td>\n",
       "      <td>707</td>\n",
       "      <td>1</td>\n",
       "      <td>3</td>\n",
       "      <td>1</td>\n",
       "    </tr>\n",
       "    <tr>\n",
       "      <th>3</th>\n",
       "      <td>5c546c236</td>\n",
       "      <td>2</td>\n",
       "      <td>Manja</td>\n",
       "      <td>4</td>\n",
       "      <td>299</td>\n",
       "      <td>0</td>\n",
       "      <td>2</td>\n",
       "      <td>1</td>\n",
       "      <td>2</td>\n",
       "      <td>0</td>\n",
       "      <td>...</td>\n",
       "      <td>0.4</td>\n",
       "      <td>en</td>\n",
       "      <td>Tabby</td>\n",
       "      <td>CAT</td>\n",
       "      <td>-1</td>\n",
       "      <td>1</td>\n",
       "      <td>130</td>\n",
       "      <td>1</td>\n",
       "      <td>2</td>\n",
       "      <td>1</td>\n",
       "    </tr>\n",
       "    <tr>\n",
       "      <th>4</th>\n",
       "      <td>c2346525a</td>\n",
       "      <td>2</td>\n",
       "      <td>Cham</td>\n",
       "      <td>8</td>\n",
       "      <td>299</td>\n",
       "      <td>0</td>\n",
       "      <td>1</td>\n",
       "      <td>3</td>\n",
       "      <td>0</td>\n",
       "      <td>0</td>\n",
       "      <td>...</td>\n",
       "      <td>0.5</td>\n",
       "      <td>en</td>\n",
       "      <td>Tabby</td>\n",
       "      <td>CAT</td>\n",
       "      <td>-1</td>\n",
       "      <td>1</td>\n",
       "      <td>99</td>\n",
       "      <td>1</td>\n",
       "      <td>1</td>\n",
       "      <td>1</td>\n",
       "    </tr>\n",
       "  </tbody>\n",
       "</table>\n",
       "<p>5 rows × 35 columns</p>\n",
       "</div>"
      ],
      "text/plain": [
       "       PetID  Type        Name  Age  Breed1  Breed2  Gender  Color1  Color2  \\\n",
       "0  86e1089a3     2      Nibble    3     299       0       1       1       7   \n",
       "1  1bf1f95ef     2        Mimi   12     299       0       2       3       6   \n",
       "2  987baa1c7     2  Tabby Male   48     299       0       1       1       2   \n",
       "3  5c546c236     2       Manja    4     299       0       2       1       2   \n",
       "4  c2346525a     2        Cham    8     299       0       1       3       0   \n",
       "\n",
       "   Color3   ...     score  language  BreedName  BreedGroup  BreedGroupID  \\\n",
       "0       0   ...       0.3        en      Tabby         CAT            -1   \n",
       "1       7   ...       0.0      None      Tabby         CAT            -1   \n",
       "2       7   ...       0.3        en      Tabby         CAT            -1   \n",
       "3       0   ...       0.4        en      Tabby         CAT            -1   \n",
       "4       0   ...       0.5        en      Tabby         CAT            -1   \n",
       "\n",
       "   purebred  desc_len  start_cap  num_colors has_name  \n",
       "0         1       359          1           2        1  \n",
       "1         1        40          1           3        1  \n",
       "2         1       707          1           3        1  \n",
       "3         1       130          1           2        1  \n",
       "4         1        99          1           1        1  \n",
       "\n",
       "[5 rows x 35 columns]"
      ]
     },
     "execution_count": 15,
     "metadata": {},
     "output_type": "execute_result"
    }
   ],
   "source": [
    "pet_df.head()"
   ]
  },
  {
   "cell_type": "code",
   "execution_count": null,
   "metadata": {},
   "outputs": [],
   "source": []
  },
  {
   "cell_type": "code",
   "execution_count": 17,
   "metadata": {},
   "outputs": [],
   "source": [
    "X = pet_df.drop(columns=['Name','RescuerID','Description','PetID','AdoptionSpeed', 'BreedName', 'BreedGroupID'])\n",
    "y = pet_df['AdoptionSpeed'].astype('str')"
   ]
  },
  {
   "cell_type": "code",
   "execution_count": 18,
   "metadata": {},
   "outputs": [],
   "source": [
    "cat_features = ['Type', 'Breed1', 'Breed2', 'Gender', 'Color1', 'Color2',\n",
    "       'Color3', 'MaturitySize', 'FurLength', 'Vaccinated', 'Dewormed',\n",
    "       'Sterilized', 'Health', 'State', 'language', 'BreedGroup']"
   ]
  },
  {
   "cell_type": "code",
   "execution_count": 19,
   "metadata": {},
   "outputs": [],
   "source": [
    "for feat in cat_features:\n",
    "    dummies = pd.get_dummies(X[feat], prefix=feat)\n",
    "    dummies.drop(dummies.columns[-1], axis=1, inplace=True)\n",
    "    X = X.drop(feat, axis=1).merge(dummies, left_index=True, right_index=True)"
   ]
  },
  {
   "cell_type": "code",
   "execution_count": 20,
   "metadata": {},
   "outputs": [],
   "source": [
    "y_one = pd.get_dummies(y)"
   ]
  },
  {
   "cell_type": "code",
   "execution_count": 71,
   "metadata": {},
   "outputs": [],
   "source": [
    "X_train, X_test, y_train, y_test = train_test_split(X, y, test_size=0.20, random_state=42)"
   ]
  },
  {
   "cell_type": "code",
   "execution_count": null,
   "metadata": {},
   "outputs": [],
   "source": []
  },
  {
   "cell_type": "code",
   "execution_count": 112,
   "metadata": {},
   "outputs": [],
   "source": [
    "nn = Sequential()\n",
    "nn.add(Dense(64, activation='relu', input_dim=(X_train.shape[1])))\n",
    "nn.add(Dropout(0.5))\n",
    "nn.add(Dense(128, activation='relu'))\n",
    "nn.add(Dropout(0.5))\n",
    "nn.add(Dense(128, activation='relu'))\n",
    "nn.add(Dropout(0.5))\n",
    "nn.add(Dense(128, activation='relu'))\n",
    "nn.add(Dropout(0.5))\n",
    "nn.add(Dense(128, activation='relu'))\n",
    "nn.add(Dropout(0.5))\n",
    "nn.add(Dense(32, activation='relu'))\n",
    "nn.add(Dropout(0.5))\n",
    "nn.add(Dense(1,activation='linear'))"
   ]
  },
  {
   "cell_type": "code",
   "execution_count": 69,
   "metadata": {},
   "outputs": [],
   "source": [
    "import keras.backend as K\n",
    "\n",
    "def kappa(y_true, y_pred):\n",
    "    kappa = quadratic_weighted_kappa.quadratic_weighted_kappa(y_true, y_pred)\n",
    "    return K.sum(kappa)"
   ]
  },
  {
   "cell_type": "code",
   "execution_count": 113,
   "metadata": {},
   "outputs": [
    {
     "name": "stdout",
     "output_type": "stream",
     "text": [
      "Train on 11990 samples, validate on 2998 samples\n",
      "Epoch 1/40\n",
      "11990/11990 [==============================] - 2s 167us/step - loss: 3.9778 - mean_absolute_error: 3.9778 - val_loss: 2.1627 - val_mean_absolute_error: 2.1627\n",
      "Epoch 2/40\n",
      "11990/11990 [==============================] - 1s 80us/step - loss: 1.7983 - mean_absolute_error: 1.7983 - val_loss: 1.7074 - val_mean_absolute_error: 1.7074\n",
      "Epoch 3/40\n",
      "11990/11990 [==============================] - 1s 79us/step - loss: 1.4870 - mean_absolute_error: 1.4870 - val_loss: 1.1346 - val_mean_absolute_error: 1.1346\n",
      "Epoch 4/40\n",
      "11990/11990 [==============================] - 1s 79us/step - loss: 1.2273 - mean_absolute_error: 1.2273 - val_loss: 1.0323 - val_mean_absolute_error: 1.0323\n",
      "Epoch 5/40\n",
      "11990/11990 [==============================] - 1s 82us/step - loss: 1.1405 - mean_absolute_error: 1.1405 - val_loss: 1.0315 - val_mean_absolute_error: 1.0315\n",
      "Epoch 6/40\n",
      "11990/11990 [==============================] - 1s 82us/step - loss: 1.0992 - mean_absolute_error: 1.0992 - val_loss: 1.0306 - val_mean_absolute_error: 1.0306\n",
      "Epoch 7/40\n",
      "11990/11990 [==============================] - 1s 92us/step - loss: 1.0858 - mean_absolute_error: 1.0858 - val_loss: 1.0309 - val_mean_absolute_error: 1.0309\n",
      "Epoch 8/40\n",
      "11990/11990 [==============================] - 1s 93us/step - loss: 1.0782 - mean_absolute_error: 1.0782 - val_loss: 1.0314 - val_mean_absolute_error: 1.0314\n",
      "Epoch 9/40\n",
      "11990/11990 [==============================] - 1s 91us/step - loss: 1.0702 - mean_absolute_error: 1.0702 - val_loss: 1.0313 - val_mean_absolute_error: 1.0313\n",
      "Epoch 10/40\n",
      "11990/11990 [==============================] - 1s 85us/step - loss: 1.0675 - mean_absolute_error: 1.0675 - val_loss: 1.0301 - val_mean_absolute_error: 1.0301\n",
      "Epoch 11/40\n",
      "11990/11990 [==============================] - 1s 80us/step - loss: 1.0620 - mean_absolute_error: 1.0620 - val_loss: 1.0302 - val_mean_absolute_error: 1.0302\n",
      "Epoch 12/40\n",
      "11990/11990 [==============================] - 1s 91us/step - loss: 1.0572 - mean_absolute_error: 1.0572 - val_loss: 1.0310 - val_mean_absolute_error: 1.0310\n",
      "Epoch 13/40\n",
      "11990/11990 [==============================] - 1s 85us/step - loss: 1.0567 - mean_absolute_error: 1.0567 - val_loss: 1.0300 - val_mean_absolute_error: 1.0300\n",
      "Epoch 14/40\n",
      "11990/11990 [==============================] - 1s 88us/step - loss: 1.0567 - mean_absolute_error: 1.0567 - val_loss: 1.0291 - val_mean_absolute_error: 1.0291\n",
      "Epoch 15/40\n",
      "11990/11990 [==============================] - 1s 88us/step - loss: 1.0527 - mean_absolute_error: 1.0527 - val_loss: 1.0287 - val_mean_absolute_error: 1.0287\n",
      "Epoch 16/40\n",
      "11990/11990 [==============================] - 1s 84us/step - loss: 1.0480 - mean_absolute_error: 1.0480 - val_loss: 1.0286 - val_mean_absolute_error: 1.0286\n",
      "Epoch 17/40\n",
      "11990/11990 [==============================] - 1s 86us/step - loss: 1.0473 - mean_absolute_error: 1.0473 - val_loss: 1.0299 - val_mean_absolute_error: 1.0299\n",
      "Epoch 18/40\n",
      "11990/11990 [==============================] - 1s 88us/step - loss: 1.0485 - mean_absolute_error: 1.0485 - val_loss: 1.0296 - val_mean_absolute_error: 1.0296\n",
      "Epoch 19/40\n",
      "11990/11990 [==============================] - 1s 82us/step - loss: 1.0408 - mean_absolute_error: 1.0408 - val_loss: 1.0176 - val_mean_absolute_error: 1.0176\n",
      "Epoch 20/40\n",
      "11990/11990 [==============================] - 1s 81us/step - loss: 1.0440 - mean_absolute_error: 1.0440 - val_loss: 1.0132 - val_mean_absolute_error: 1.0132\n",
      "Epoch 21/40\n",
      "11990/11990 [==============================] - 1s 84us/step - loss: 1.0438 - mean_absolute_error: 1.0438 - val_loss: 1.0143 - val_mean_absolute_error: 1.0143\n",
      "Epoch 22/40\n",
      "11990/11990 [==============================] - 1s 83us/step - loss: 1.0337 - mean_absolute_error: 1.0337 - val_loss: 0.9943 - val_mean_absolute_error: 0.9943\n",
      "Epoch 23/40\n",
      "11990/11990 [==============================] - 1s 78us/step - loss: 1.0347 - mean_absolute_error: 1.0347 - val_loss: 0.9839 - val_mean_absolute_error: 0.9839\n",
      "Epoch 24/40\n",
      "11990/11990 [==============================] - 1s 81us/step - loss: 1.0247 - mean_absolute_error: 1.0247 - val_loss: 0.9810 - val_mean_absolute_error: 0.9810\n",
      "Epoch 25/40\n",
      "11990/11990 [==============================] - 1s 82us/step - loss: 1.0250 - mean_absolute_error: 1.0250 - val_loss: 0.9868 - val_mean_absolute_error: 0.9868\n",
      "Epoch 26/40\n",
      "11990/11990 [==============================] - 1s 83us/step - loss: 1.0165 - mean_absolute_error: 1.0165 - val_loss: 0.9645 - val_mean_absolute_error: 0.9645\n",
      "Epoch 27/40\n",
      "11990/11990 [==============================] - 1s 80us/step - loss: 1.0092 - mean_absolute_error: 1.0092 - val_loss: 0.9687 - val_mean_absolute_error: 0.9687\n",
      "Epoch 28/40\n",
      "11990/11990 [==============================] - 1s 82us/step - loss: 1.0110 - mean_absolute_error: 1.0110 - val_loss: 0.9686 - val_mean_absolute_error: 0.9686\n",
      "Epoch 29/40\n",
      "11990/11990 [==============================] - 1s 80us/step - loss: 1.0058 - mean_absolute_error: 1.0058 - val_loss: 0.9555 - val_mean_absolute_error: 0.9555\n",
      "Epoch 30/40\n",
      "11990/11990 [==============================] - 1s 88us/step - loss: 1.0118 - mean_absolute_error: 1.0118 - val_loss: 0.9532 - val_mean_absolute_error: 0.9532\n",
      "Epoch 31/40\n",
      "11990/11990 [==============================] - 1s 85us/step - loss: 0.9960 - mean_absolute_error: 0.9960 - val_loss: 0.9440 - val_mean_absolute_error: 0.9440\n",
      "Epoch 32/40\n",
      "11990/11990 [==============================] - 1s 82us/step - loss: 1.0004 - mean_absolute_error: 1.0004 - val_loss: 0.9643 - val_mean_absolute_error: 0.9643\n",
      "Epoch 33/40\n",
      "11990/11990 [==============================] - 1s 81us/step - loss: 0.9962 - mean_absolute_error: 0.9962 - val_loss: 0.9478 - val_mean_absolute_error: 0.9478\n",
      "Epoch 34/40\n",
      "11990/11990 [==============================] - 1s 80us/step - loss: 0.9998 - mean_absolute_error: 0.9998 - val_loss: 0.9816 - val_mean_absolute_error: 0.9816\n",
      "Epoch 35/40\n",
      "11990/11990 [==============================] - 1s 82us/step - loss: 0.9888 - mean_absolute_error: 0.9888 - val_loss: 0.9523 - val_mean_absolute_error: 0.9523\n",
      "Epoch 36/40\n",
      "11990/11990 [==============================] - 1s 83us/step - loss: 0.9940 - mean_absolute_error: 0.9940 - val_loss: 0.9696 - val_mean_absolute_error: 0.9696\n",
      "Epoch 37/40\n",
      "11990/11990 [==============================] - 1s 81us/step - loss: 0.9861 - mean_absolute_error: 0.9861 - val_loss: 0.9352 - val_mean_absolute_error: 0.9352\n",
      "Epoch 38/40\n",
      "11990/11990 [==============================] - 1s 85us/step - loss: 0.9868 - mean_absolute_error: 0.9868 - val_loss: 0.9463 - val_mean_absolute_error: 0.9463\n",
      "Epoch 39/40\n",
      "11990/11990 [==============================] - 1s 87us/step - loss: 0.9858 - mean_absolute_error: 0.9858 - val_loss: 0.9496 - val_mean_absolute_error: 0.9496\n",
      "Epoch 40/40\n",
      "11990/11990 [==============================] - 1s 82us/step - loss: 0.9838 - mean_absolute_error: 0.9838 - val_loss: 0.9196 - val_mean_absolute_error: 0.9196\n",
      "2998/2998 [==============================] - 0s 41us/step\n"
     ]
    },
    {
     "data": {
      "text/plain": [
       "[0.9196095448720447, 0.9196095448720447]"
      ]
     },
     "execution_count": 113,
     "metadata": {},
     "output_type": "execute_result"
    }
   ],
   "source": [
    "nn.compile(loss=keras.losses.mean_absolute_error, optimizer=keras.optimizers.Adam(), metrics=['mae'])\n",
    "\n",
    "trained = nn.fit(X_train, y_train, batch_size=64,epochs=40,verbose=1,validation_data=(X_test, y_test))\n",
    "\n",
    "nn.evaluate(X_test, y_test)"
   ]
  },
  {
   "cell_type": "code",
   "execution_count": 114,
   "metadata": {},
   "outputs": [],
   "source": [
    "y_predict = nn.predict(X_test)"
   ]
  },
  {
   "cell_type": "code",
   "execution_count": 115,
   "metadata": {},
   "outputs": [
    {
     "data": {
      "text/plain": [
       "2.5155963302752293"
      ]
     },
     "execution_count": 115,
     "metadata": {},
     "output_type": "execute_result"
    }
   ],
   "source": [
    "y_train.astype('int').mean()"
   ]
  },
  {
   "cell_type": "code",
   "execution_count": 116,
   "metadata": {},
   "outputs": [
    {
     "data": {
      "text/plain": [
       "array([[2.0234296],\n",
       "       [2.0020607],\n",
       "       [1.9999936],\n",
       "       ...,\n",
       "       [2.9937322],\n",
       "       [2.9937322],\n",
       "       [2.003214 ]], dtype=float32)"
      ]
     },
     "execution_count": 116,
     "metadata": {},
     "output_type": "execute_result"
    }
   ],
   "source": [
    "y_predict"
   ]
  },
  {
   "cell_type": "code",
   "execution_count": 117,
   "metadata": {},
   "outputs": [],
   "source": [
    "y_predict = y_predict.reshape((1,-1))"
   ]
  },
  {
   "cell_type": "code",
   "execution_count": 118,
   "metadata": {},
   "outputs": [],
   "source": [
    "y_predict = y_predict.round()[0]"
   ]
  },
  {
   "cell_type": "code",
   "execution_count": 119,
   "metadata": {},
   "outputs": [
    {
     "data": {
      "text/plain": [
       "array([2., 2., 2., ..., 3., 3., 2.], dtype=float32)"
      ]
     },
     "execution_count": 119,
     "metadata": {},
     "output_type": "execute_result"
    }
   ],
   "source": [
    "y_predict"
   ]
  },
  {
   "cell_type": "code",
   "execution_count": 120,
   "metadata": {},
   "outputs": [
    {
     "data": {
      "text/plain": [
       "0.18263729927821437"
      ]
     },
     "execution_count": 120,
     "metadata": {},
     "output_type": "execute_result"
    }
   ],
   "source": [
    "quadratic_weighted_kappa.quadratic_weighted_kappa(y_predict, y_test)"
   ]
  },
  {
   "cell_type": "code",
   "execution_count": 35,
   "metadata": {},
   "outputs": [],
   "source": [
    "y_test_class = y_test.idxmax(axis=1)"
   ]
  },
  {
   "cell_type": "code",
   "execution_count": 57,
   "metadata": {},
   "outputs": [
    {
     "data": {
      "text/html": [
       "<div>\n",
       "<style scoped>\n",
       "    .dataframe tbody tr th:only-of-type {\n",
       "        vertical-align: middle;\n",
       "    }\n",
       "\n",
       "    .dataframe tbody tr th {\n",
       "        vertical-align: top;\n",
       "    }\n",
       "\n",
       "    .dataframe thead th {\n",
       "        text-align: right;\n",
       "    }\n",
       "</style>\n",
       "<table border=\"1\" class=\"dataframe\">\n",
       "  <thead>\n",
       "    <tr style=\"text-align: right;\">\n",
       "      <th></th>\n",
       "      <th>0</th>\n",
       "      <th>1</th>\n",
       "      <th>2</th>\n",
       "      <th>3</th>\n",
       "      <th>4</th>\n",
       "    </tr>\n",
       "  </thead>\n",
       "  <tbody>\n",
       "    <tr>\n",
       "      <th>5992</th>\n",
       "      <td>0</td>\n",
       "      <td>0</td>\n",
       "      <td>0</td>\n",
       "      <td>1</td>\n",
       "      <td>0</td>\n",
       "    </tr>\n",
       "    <tr>\n",
       "      <th>9981</th>\n",
       "      <td>0</td>\n",
       "      <td>0</td>\n",
       "      <td>0</td>\n",
       "      <td>1</td>\n",
       "      <td>0</td>\n",
       "    </tr>\n",
       "    <tr>\n",
       "      <th>12717</th>\n",
       "      <td>0</td>\n",
       "      <td>0</td>\n",
       "      <td>1</td>\n",
       "      <td>0</td>\n",
       "      <td>0</td>\n",
       "    </tr>\n",
       "    <tr>\n",
       "      <th>6518</th>\n",
       "      <td>0</td>\n",
       "      <td>0</td>\n",
       "      <td>1</td>\n",
       "      <td>0</td>\n",
       "      <td>0</td>\n",
       "    </tr>\n",
       "    <tr>\n",
       "      <th>8883</th>\n",
       "      <td>0</td>\n",
       "      <td>0</td>\n",
       "      <td>0</td>\n",
       "      <td>1</td>\n",
       "      <td>0</td>\n",
       "    </tr>\n",
       "  </tbody>\n",
       "</table>\n",
       "</div>"
      ],
      "text/plain": [
       "       0  1  2  3  4\n",
       "5992   0  0  0  1  0\n",
       "9981   0  0  0  1  0\n",
       "12717  0  0  1  0  0\n",
       "6518   0  0  1  0  0\n",
       "8883   0  0  0  1  0"
      ]
     },
     "execution_count": 57,
     "metadata": {},
     "output_type": "execute_result"
    }
   ],
   "source": [
    "y_test.head()"
   ]
  },
  {
   "cell_type": "code",
   "execution_count": 64,
   "metadata": {},
   "outputs": [
    {
     "data": {
      "text/html": [
       "<div>\n",
       "<style scoped>\n",
       "    .dataframe tbody tr th:only-of-type {\n",
       "        vertical-align: middle;\n",
       "    }\n",
       "\n",
       "    .dataframe tbody tr th {\n",
       "        vertical-align: top;\n",
       "    }\n",
       "\n",
       "    .dataframe thead th {\n",
       "        text-align: right;\n",
       "    }\n",
       "</style>\n",
       "<table border=\"1\" class=\"dataframe\">\n",
       "  <thead>\n",
       "    <tr style=\"text-align: right;\">\n",
       "      <th></th>\n",
       "      <th>0</th>\n",
       "      <th>1</th>\n",
       "      <th>2</th>\n",
       "      <th>3</th>\n",
       "      <th>4</th>\n",
       "    </tr>\n",
       "  </thead>\n",
       "  <tbody>\n",
       "    <tr>\n",
       "      <th>14472</th>\n",
       "      <td>1</td>\n",
       "      <td>0</td>\n",
       "      <td>0</td>\n",
       "      <td>0</td>\n",
       "      <td>0</td>\n",
       "    </tr>\n",
       "    <tr>\n",
       "      <th>820</th>\n",
       "      <td>0</td>\n",
       "      <td>0</td>\n",
       "      <td>0</td>\n",
       "      <td>1</td>\n",
       "      <td>0</td>\n",
       "    </tr>\n",
       "    <tr>\n",
       "      <th>1643</th>\n",
       "      <td>0</td>\n",
       "      <td>0</td>\n",
       "      <td>0</td>\n",
       "      <td>1</td>\n",
       "      <td>0</td>\n",
       "    </tr>\n",
       "    <tr>\n",
       "      <th>7530</th>\n",
       "      <td>0</td>\n",
       "      <td>1</td>\n",
       "      <td>0</td>\n",
       "      <td>0</td>\n",
       "      <td>0</td>\n",
       "    </tr>\n",
       "    <tr>\n",
       "      <th>11851</th>\n",
       "      <td>0</td>\n",
       "      <td>0</td>\n",
       "      <td>1</td>\n",
       "      <td>0</td>\n",
       "      <td>0</td>\n",
       "    </tr>\n",
       "  </tbody>\n",
       "</table>\n",
       "</div>"
      ],
      "text/plain": [
       "       0  1  2  3  4\n",
       "14472  1  0  0  0  0\n",
       "820    0  0  0  1  0\n",
       "1643   0  0  0  1  0\n",
       "7530   0  1  0  0  0\n",
       "11851  0  0  1  0  0"
      ]
     },
     "execution_count": 64,
     "metadata": {},
     "output_type": "execute_result"
    }
   ],
   "source": [
    "y_train.head()"
   ]
  },
  {
   "cell_type": "code",
   "execution_count": 53,
   "metadata": {},
   "outputs": [
    {
     "data": {
      "text/plain": [
       "5992     3\n",
       "9981     3\n",
       "12717    2\n",
       "6518     2\n",
       "8883     3\n",
       "dtype: object"
      ]
     },
     "execution_count": 53,
     "metadata": {},
     "output_type": "execute_result"
    }
   ],
   "source": [
    "y_test_class.head()"
   ]
  },
  {
   "cell_type": "code",
   "execution_count": 62,
   "metadata": {},
   "outputs": [
    {
     "name": "stdout",
     "output_type": "stream",
     "text": [
      "[2 4 2 4 2 2 4 2 4 4 4 4 4 4 4 4 2 4 2 4]\n"
     ]
    }
   ],
   "source": [
    "print(y_predict[:20])"
   ]
  },
  {
   "cell_type": "code",
   "execution_count": 63,
   "metadata": {},
   "outputs": [
    {
     "data": {
      "text/plain": [
       "0     2\n",
       "1     4\n",
       "2     2\n",
       "3     4\n",
       "4     2\n",
       "5     2\n",
       "6     2\n",
       "7     4\n",
       "8     3\n",
       "9     4\n",
       "10    2\n",
       "11    2\n",
       "12    2\n",
       "13    4\n",
       "14    4\n",
       "15    2\n",
       "16    2\n",
       "17    1\n",
       "18    2\n",
       "19    3\n",
       "Name: AdoptionSpeed, dtype: int64"
      ]
     },
     "execution_count": 63,
     "metadata": {},
     "output_type": "execute_result"
    }
   ],
   "source": [
    "pet_df['AdoptionSpeed'].head(20)"
   ]
  },
  {
   "cell_type": "code",
   "execution_count": 55,
   "metadata": {},
   "outputs": [
    {
     "data": {
      "text/plain": [
       "0    2\n",
       "1    4\n",
       "2    2\n",
       "3    4\n",
       "4    2\n",
       "Name: AdoptionSpeed, dtype: object"
      ]
     },
     "execution_count": 55,
     "metadata": {},
     "output_type": "execute_result"
    }
   ],
   "source": [
    "y.head()"
   ]
  },
  {
   "cell_type": "code",
   "execution_count": 56,
   "metadata": {},
   "outputs": [
    {
     "data": {
      "text/html": [
       "<div>\n",
       "<style scoped>\n",
       "    .dataframe tbody tr th:only-of-type {\n",
       "        vertical-align: middle;\n",
       "    }\n",
       "\n",
       "    .dataframe tbody tr th {\n",
       "        vertical-align: top;\n",
       "    }\n",
       "\n",
       "    .dataframe thead th {\n",
       "        text-align: right;\n",
       "    }\n",
       "</style>\n",
       "<table border=\"1\" class=\"dataframe\">\n",
       "  <thead>\n",
       "    <tr style=\"text-align: right;\">\n",
       "      <th></th>\n",
       "      <th>0</th>\n",
       "      <th>1</th>\n",
       "      <th>2</th>\n",
       "      <th>3</th>\n",
       "      <th>4</th>\n",
       "    </tr>\n",
       "  </thead>\n",
       "  <tbody>\n",
       "    <tr>\n",
       "      <th>0</th>\n",
       "      <td>0</td>\n",
       "      <td>0</td>\n",
       "      <td>1</td>\n",
       "      <td>0</td>\n",
       "      <td>0</td>\n",
       "    </tr>\n",
       "    <tr>\n",
       "      <th>1</th>\n",
       "      <td>0</td>\n",
       "      <td>0</td>\n",
       "      <td>0</td>\n",
       "      <td>0</td>\n",
       "      <td>1</td>\n",
       "    </tr>\n",
       "    <tr>\n",
       "      <th>2</th>\n",
       "      <td>0</td>\n",
       "      <td>0</td>\n",
       "      <td>1</td>\n",
       "      <td>0</td>\n",
       "      <td>0</td>\n",
       "    </tr>\n",
       "    <tr>\n",
       "      <th>3</th>\n",
       "      <td>0</td>\n",
       "      <td>0</td>\n",
       "      <td>0</td>\n",
       "      <td>0</td>\n",
       "      <td>1</td>\n",
       "    </tr>\n",
       "    <tr>\n",
       "      <th>4</th>\n",
       "      <td>0</td>\n",
       "      <td>0</td>\n",
       "      <td>1</td>\n",
       "      <td>0</td>\n",
       "      <td>0</td>\n",
       "    </tr>\n",
       "  </tbody>\n",
       "</table>\n",
       "</div>"
      ],
      "text/plain": [
       "   0  1  2  3  4\n",
       "0  0  0  1  0  0\n",
       "1  0  0  0  0  1\n",
       "2  0  0  1  0  0\n",
       "3  0  0  0  0  1\n",
       "4  0  0  1  0  0"
      ]
     },
     "execution_count": 56,
     "metadata": {},
     "output_type": "execute_result"
    }
   ],
   "source": [
    "y_one.head()"
   ]
  },
  {
   "cell_type": "code",
   "execution_count": null,
   "metadata": {},
   "outputs": [],
   "source": []
  }
 ],
 "metadata": {
  "kernelspec": {
   "display_name": "Python 3",
   "language": "python",
   "name": "python3"
  },
  "language_info": {
   "codemirror_mode": {
    "name": "ipython",
    "version": 3
   },
   "file_extension": ".py",
   "mimetype": "text/x-python",
   "name": "python",
   "nbconvert_exporter": "python",
   "pygments_lexer": "ipython3",
   "version": "3.6.6"
  }
 },
 "nbformat": 4,
 "nbformat_minor": 2
}
