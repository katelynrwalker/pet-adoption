{
 "cells": [
  {
   "cell_type": "code",
   "execution_count": 1,
   "metadata": {},
   "outputs": [
    {
     "name": "stderr",
     "output_type": "stream",
     "text": [
      "/Users/John/anaconda3/lib/python3.6/site-packages/h5py/__init__.py:36: FutureWarning: Conversion of the second argument of issubdtype from `float` to `np.floating` is deprecated. In future, it will be treated as `np.float64 == np.dtype(float).type`.\n",
      "  from ._conv import register_converters as _register_converters\n",
      "Using TensorFlow backend.\n"
     ]
    }
   ],
   "source": [
    "import pandas as pd\n",
    "import numpy as np\n",
    "import matplotlib.pyplot as plt\n",
    "from sklearn.linear_model import LogisticRegression\n",
    "from sklearn.model_selection import train_test_split\n",
    "from sklearn.ensemble import GradientBoostingClassifier\n",
    "from keras.models import Sequential\n",
    "from keras.layers import Dense, Dropout\n",
    "from sklearn.preprocessing import OneHotEncoder, StandardScaler, MinMaxScaler"
   ]
  },
  {
   "cell_type": "code",
   "execution_count": 2,
   "metadata": {},
   "outputs": [],
   "source": [
    "df = pd.read_csv('data/train.csv')"
   ]
  },
  {
   "cell_type": "code",
   "execution_count": 3,
   "metadata": {},
   "outputs": [
    {
     "name": "stdout",
     "output_type": "stream",
     "text": [
      "<class 'pandas.core.frame.DataFrame'>\n",
      "RangeIndex: 14993 entries, 0 to 14992\n",
      "Data columns (total 24 columns):\n",
      "Type             14993 non-null int64\n",
      "Name             13736 non-null object\n",
      "Age              14993 non-null int64\n",
      "Breed1           14993 non-null int64\n",
      "Breed2           14993 non-null int64\n",
      "Gender           14993 non-null int64\n",
      "Color1           14993 non-null int64\n",
      "Color2           14993 non-null int64\n",
      "Color3           14993 non-null int64\n",
      "MaturitySize     14993 non-null int64\n",
      "FurLength        14993 non-null int64\n",
      "Vaccinated       14993 non-null int64\n",
      "Dewormed         14993 non-null int64\n",
      "Sterilized       14993 non-null int64\n",
      "Health           14993 non-null int64\n",
      "Quantity         14993 non-null int64\n",
      "Fee              14993 non-null int64\n",
      "State            14993 non-null int64\n",
      "RescuerID        14993 non-null object\n",
      "VideoAmt         14993 non-null int64\n",
      "Description      14981 non-null object\n",
      "PetID            14993 non-null object\n",
      "PhotoAmt         14993 non-null float64\n",
      "AdoptionSpeed    14993 non-null int64\n",
      "dtypes: float64(1), int64(19), object(4)\n",
      "memory usage: 2.7+ MB\n"
     ]
    }
   ],
   "source": [
    "df.info()"
   ]
  },
  {
   "cell_type": "code",
   "execution_count": 4,
   "metadata": {},
   "outputs": [],
   "source": [
    "X = df.drop(columns=['Name','RescuerID','Description','PetID','AdoptionSpeed'])\n",
    "y = df['AdoptionSpeed'].astype('str')"
   ]
  },
  {
   "cell_type": "code",
   "execution_count": 5,
   "metadata": {},
   "outputs": [],
   "source": [
    "sclr = StandardScaler()\n",
    "X = sclr.fit_transform(X)"
   ]
  },
  {
   "cell_type": "code",
   "execution_count": 6,
   "metadata": {},
   "outputs": [],
   "source": [
    "X_train, X_val, y_train, y_val = train_test_split(X, y, test_size=0.2)"
   ]
  },
  {
   "cell_type": "code",
   "execution_count": 7,
   "metadata": {},
   "outputs": [
    {
     "data": {
      "text/plain": [
       "LogisticRegression(C=1.0, class_weight=None, dual=False, fit_intercept=True,\n",
       "          intercept_scaling=1, max_iter=100, multi_class='ovr', n_jobs=1,\n",
       "          penalty='l2', random_state=None, solver='liblinear', tol=0.0001,\n",
       "          verbose=0, warm_start=False)"
      ]
     },
     "execution_count": 7,
     "metadata": {},
     "output_type": "execute_result"
    }
   ],
   "source": [
    "log = LogisticRegression(multi_class='ovr')\n",
    "log.fit(X_train, y_train)"
   ]
  },
  {
   "cell_type": "code",
   "execution_count": 8,
   "metadata": {},
   "outputs": [
    {
     "data": {
      "text/plain": [
       "0.3584528176058686"
      ]
     },
     "execution_count": 8,
     "metadata": {},
     "output_type": "execute_result"
    }
   ],
   "source": [
    "log_pred = log.predict(X_val)\n",
    "np.sum(log_pred==y_val) / len(y_val)"
   ]
  },
  {
   "cell_type": "code",
   "execution_count": 9,
   "metadata": {},
   "outputs": [
    {
     "data": {
      "text/plain": [
       "GradientBoostingClassifier(criterion='friedman_mse', init=None,\n",
       "              learning_rate=0.1, loss='deviance', max_depth=3,\n",
       "              max_features=None, max_leaf_nodes=None,\n",
       "              min_impurity_decrease=0.0, min_impurity_split=None,\n",
       "              min_samples_leaf=1, min_samples_split=2,\n",
       "              min_weight_fraction_leaf=0.0, n_estimators=100,\n",
       "              presort='auto', random_state=None, subsample=0.9, verbose=0,\n",
       "              warm_start=False)"
      ]
     },
     "execution_count": 9,
     "metadata": {},
     "output_type": "execute_result"
    }
   ],
   "source": [
    "gb = GradientBoostingClassifier(subsample=0.9)\n",
    "gb.fit(X_train, y_train)"
   ]
  },
  {
   "cell_type": "code",
   "execution_count": 10,
   "metadata": {},
   "outputs": [
    {
     "data": {
      "text/plain": [
       "0.40346782260753583"
      ]
     },
     "execution_count": 10,
     "metadata": {},
     "output_type": "execute_result"
    }
   ],
   "source": [
    "gb_pred = gb.predict(X_val)\n",
    "np.sum(gb_pred==y_val) / len(y_val)"
   ]
  },
  {
   "cell_type": "code",
   "execution_count": 11,
   "metadata": {},
   "outputs": [
    {
     "name": "stderr",
     "output_type": "stream",
     "text": [
      "/Users/John/anaconda3/lib/python3.6/site-packages/ipykernel_launcher.py:2: FutureWarning: reshape is deprecated and will raise in a subsequent release. Please use .values.reshape(...) instead\n",
      "  \n"
     ]
    }
   ],
   "source": [
    "enc = OneHotEncoder()\n",
    "y_train_enc = enc.fit_transform(y_train.reshape(-1,1))"
   ]
  },
  {
   "cell_type": "code",
   "execution_count": 43,
   "metadata": {},
   "outputs": [],
   "source": [
    "nn = Sequential()\n",
    "nn.add(Dense(128, activation='relu', input_dim=(X_train.shape[1])))\n",
    "nn.add(Dropout(0.5))\n",
    "nn.add(Dense(64, activation='relu'))\n",
    "nn.add(Dropout(0.5))\n",
    "nn.add(Dense(32, activation='relu'))\n",
    "nn.add(Dropout(0.7))\n",
    "nn.add(Dense(16, activation='relu'))\n",
    "nn.add(Dropout(0.7))\n",
    "nn.add(Dense(5,activation='sigmoid'))"
   ]
  },
  {
   "cell_type": "code",
   "execution_count": 44,
   "metadata": {},
   "outputs": [],
   "source": [
    "nn.compile(loss='categorical_crossentropy',\n",
    "              optimizer='sgd',\n",
    "              metrics=['accuracy'])"
   ]
  },
  {
   "cell_type": "code",
   "execution_count": 45,
   "metadata": {},
   "outputs": [
    {
     "name": "stdout",
     "output_type": "stream",
     "text": [
      "Epoch 1/20\n",
      "11994/11994 [==============================] - 1s 107us/step - loss: 1.6412 - acc: 0.2326\n",
      "Epoch 2/20\n",
      "11994/11994 [==============================] - 1s 63us/step - loss: 1.5639 - acc: 0.2552\n",
      "Epoch 3/20\n",
      "11994/11994 [==============================] - 1s 61us/step - loss: 1.5406 - acc: 0.2524\n",
      "Epoch 4/20\n",
      "11994/11994 [==============================] - 1s 61us/step - loss: 1.5164 - acc: 0.2574\n",
      "Epoch 5/20\n",
      "11994/11994 [==============================] - 1s 61us/step - loss: 1.5055 - acc: 0.2627\n",
      "Epoch 6/20\n",
      "11994/11994 [==============================] - 1s 63us/step - loss: 1.4986 - acc: 0.2585\n",
      "Epoch 7/20\n",
      "11994/11994 [==============================] - 1s 62us/step - loss: 1.4919 - acc: 0.2653\n",
      "Epoch 8/20\n",
      "11994/11994 [==============================] - 1s 62us/step - loss: 1.4871 - acc: 0.2709\n",
      "Epoch 9/20\n",
      "11994/11994 [==============================] - 1s 61us/step - loss: 1.4829 - acc: 0.2728\n",
      "Epoch 10/20\n",
      "11994/11994 [==============================] - 1s 62us/step - loss: 1.4789 - acc: 0.2690\n",
      "Epoch 11/20\n",
      "11994/11994 [==============================] - 1s 61us/step - loss: 1.4746 - acc: 0.2721\n",
      "Epoch 12/20\n",
      "11994/11994 [==============================] - 1s 63us/step - loss: 1.4773 - acc: 0.2765\n",
      "Epoch 13/20\n",
      "11994/11994 [==============================] - 1s 66us/step - loss: 1.4759 - acc: 0.2711\n",
      "Epoch 14/20\n",
      "11994/11994 [==============================] - 1s 64us/step - loss: 1.4751 - acc: 0.2734\n",
      "Epoch 15/20\n",
      "11994/11994 [==============================] - 1s 63us/step - loss: 1.4731 - acc: 0.2782\n",
      "Epoch 16/20\n",
      "11994/11994 [==============================] - 1s 63us/step - loss: 1.4709 - acc: 0.2729\n",
      "Epoch 17/20\n",
      "11994/11994 [==============================] - 1s 61us/step - loss: 1.4697 - acc: 0.2792\n",
      "Epoch 18/20\n",
      "11994/11994 [==============================] - 1s 61us/step - loss: 1.4699 - acc: 0.2812\n",
      "Epoch 19/20\n",
      "11994/11994 [==============================] - 1s 61us/step - loss: 1.4693 - acc: 0.2740\n",
      "Epoch 20/20\n",
      "11994/11994 [==============================] - 1s 62us/step - loss: 1.4693 - acc: 0.2756\n"
     ]
    },
    {
     "data": {
      "text/plain": [
       "<keras.callbacks.History at 0x1a2a6232e8>"
      ]
     },
     "execution_count": 45,
     "metadata": {},
     "output_type": "execute_result"
    }
   ],
   "source": [
    "nn.fit(X_train, y_train_enc, epochs=20)"
   ]
  },
  {
   "cell_type": "code",
   "execution_count": 49,
   "metadata": {},
   "outputs": [
    {
     "ename": "AttributeError",
     "evalue": "'OneHotEncoder' object has no attribute 'inverse_transform'",
     "output_type": "error",
     "traceback": [
      "\u001b[0;31m---------------------------------------------------------------------------\u001b[0m",
      "\u001b[0;31mAttributeError\u001b[0m                            Traceback (most recent call last)",
      "\u001b[0;32m<ipython-input-49-5692f8a3eac7>\u001b[0m in \u001b[0;36m<module>\u001b[0;34m()\u001b[0m\n\u001b[1;32m      1\u001b[0m \u001b[0mnn_pred\u001b[0m \u001b[0;34m=\u001b[0m \u001b[0mnn\u001b[0m\u001b[0;34m.\u001b[0m\u001b[0mpredict\u001b[0m\u001b[0;34m(\u001b[0m\u001b[0mX_val\u001b[0m\u001b[0;34m)\u001b[0m\u001b[0;34m\u001b[0m\u001b[0m\n\u001b[0;32m----> 2\u001b[0;31m \u001b[0mnp\u001b[0m\u001b[0;34m.\u001b[0m\u001b[0msum\u001b[0m\u001b[0;34m(\u001b[0m\u001b[0menc\u001b[0m\u001b[0;34m.\u001b[0m\u001b[0minverse_transform\u001b[0m\u001b[0;34m(\u001b[0m\u001b[0mnn_pred\u001b[0m\u001b[0;34m)\u001b[0m\u001b[0;34m==\u001b[0m\u001b[0my_val\u001b[0m\u001b[0;34m)\u001b[0m \u001b[0;34m/\u001b[0m \u001b[0mlen\u001b[0m\u001b[0;34m(\u001b[0m\u001b[0my_val\u001b[0m\u001b[0;34m)\u001b[0m\u001b[0;34m\u001b[0m\u001b[0m\n\u001b[0m",
      "\u001b[0;31mAttributeError\u001b[0m: 'OneHotEncoder' object has no attribute 'inverse_transform'"
     ]
    }
   ],
   "source": [
    "nn_pred = nn.predict(X_val)\n",
    "np.sum(enc.inverse_transform(nn_pred)==y_val) / len(y_val)"
   ]
  },
  {
   "cell_type": "code",
   "execution_count": 50,
   "metadata": {},
   "outputs": [
    {
     "ename": "AttributeError",
     "evalue": "'OneHotEncoder' object has no attribute 'inverse_transform'",
     "output_type": "error",
     "traceback": [
      "\u001b[0;31m---------------------------------------------------------------------------\u001b[0m",
      "\u001b[0;31mAttributeError\u001b[0m                            Traceback (most recent call last)",
      "\u001b[0;32m<ipython-input-50-a5e7257facd5>\u001b[0m in \u001b[0;36m<module>\u001b[0;34m()\u001b[0m\n\u001b[0;32m----> 1\u001b[0;31m \u001b[0menc\u001b[0m\u001b[0;34m.\u001b[0m\u001b[0minverse_transform\u001b[0m\u001b[0;34m(\u001b[0m\u001b[0mnn_pred\u001b[0m\u001b[0;34m)\u001b[0m\u001b[0;34m\u001b[0m\u001b[0m\n\u001b[0m",
      "\u001b[0;31mAttributeError\u001b[0m: 'OneHotEncoder' object has no attribute 'inverse_transform'"
     ]
    }
   ],
   "source": [
    "enc.inverse_transform(nn_pred)"
   ]
  },
  {
   "cell_type": "code",
   "execution_count": null,
   "metadata": {},
   "outputs": [],
   "source": []
  }
 ],
 "metadata": {
  "kernelspec": {
   "display_name": "Python 3",
   "language": "python",
   "name": "python3"
  },
  "language_info": {
   "codemirror_mode": {
    "name": "ipython",
    "version": 3
   },
   "file_extension": ".py",
   "mimetype": "text/x-python",
   "name": "python",
   "nbconvert_exporter": "python",
   "pygments_lexer": "ipython3",
   "version": "3.6.4"
  }
 },
 "nbformat": 4,
 "nbformat_minor": 2
}
