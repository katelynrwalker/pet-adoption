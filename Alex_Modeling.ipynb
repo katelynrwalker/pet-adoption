{
 "cells": [
  {
   "cell_type": "code",
   "execution_count": 124,
   "metadata": {},
   "outputs": [],
   "source": [
    "import pandas as pd\n",
    "import numpy as np\n",
    "import feature_engineering\n",
    "import quadratic_weighted_kappa\n",
    "from sklearn.linear_model import LogisticRegression\n",
    "from sklearn.model_selection import train_test_split\n",
    "from sklearn.preprocessing import StandardScaler\n",
    "import keras\n",
    "from keras.models import Sequential,Input,Model\n",
    "from keras.layers import Dense, Dropout, Flatten\n",
    "from keras.layers.normalization import BatchNormalization\n",
    "from keras.layers.advanced_activations import LeakyReLU\n",
    "from keras.utils import to_categorical\n",
    "\n",
    "%reload_ext autoreload\n",
    "%autoreload 2"
   ]
  },
  {
   "cell_type": "code",
   "execution_count": 42,
   "metadata": {},
   "outputs": [],
   "source": [
    "# data = pd.read_csv('data_minus_images/train.csv')\n",
    "# pet_df = feature_engineering.add_everything(data)\n",
    "# pet_df.to_csv('data_minus_images/train_feateng.csv')"
   ]
  },
  {
   "cell_type": "code",
   "execution_count": 263,
   "metadata": {},
   "outputs": [],
   "source": [
    "pet_df = pd.read_csv('data_minus_images/train_feateng.csv', index_col=0)"
   ]
  },
  {
   "cell_type": "code",
   "execution_count": 264,
   "metadata": {},
   "outputs": [
    {
     "data": {
      "text/html": [
       "<div>\n",
       "<style scoped>\n",
       "    .dataframe tbody tr th:only-of-type {\n",
       "        vertical-align: middle;\n",
       "    }\n",
       "\n",
       "    .dataframe tbody tr th {\n",
       "        vertical-align: top;\n",
       "    }\n",
       "\n",
       "    .dataframe thead th {\n",
       "        text-align: right;\n",
       "    }\n",
       "</style>\n",
       "<table border=\"1\" class=\"dataframe\">\n",
       "  <thead>\n",
       "    <tr style=\"text-align: right;\">\n",
       "      <th></th>\n",
       "      <th>PetID</th>\n",
       "      <th>Type</th>\n",
       "      <th>Name</th>\n",
       "      <th>Age</th>\n",
       "      <th>Breed1</th>\n",
       "      <th>Breed2</th>\n",
       "      <th>Gender</th>\n",
       "      <th>Color1</th>\n",
       "      <th>Color2</th>\n",
       "      <th>Color3</th>\n",
       "      <th>...</th>\n",
       "      <th>score</th>\n",
       "      <th>language</th>\n",
       "      <th>BreedName</th>\n",
       "      <th>BreedGroup</th>\n",
       "      <th>BreedGroupID</th>\n",
       "      <th>purebred</th>\n",
       "      <th>desc_len</th>\n",
       "      <th>start_cap</th>\n",
       "      <th>num_colors</th>\n",
       "      <th>has_name</th>\n",
       "    </tr>\n",
       "  </thead>\n",
       "  <tbody>\n",
       "    <tr>\n",
       "      <th>0</th>\n",
       "      <td>86e1089a3</td>\n",
       "      <td>2</td>\n",
       "      <td>Nibble</td>\n",
       "      <td>3</td>\n",
       "      <td>299</td>\n",
       "      <td>0</td>\n",
       "      <td>1</td>\n",
       "      <td>1</td>\n",
       "      <td>7</td>\n",
       "      <td>0</td>\n",
       "      <td>...</td>\n",
       "      <td>0.3</td>\n",
       "      <td>en</td>\n",
       "      <td>Tabby</td>\n",
       "      <td>CAT</td>\n",
       "      <td>-1</td>\n",
       "      <td>1</td>\n",
       "      <td>359</td>\n",
       "      <td>1</td>\n",
       "      <td>2</td>\n",
       "      <td>1</td>\n",
       "    </tr>\n",
       "    <tr>\n",
       "      <th>1</th>\n",
       "      <td>1bf1f95ef</td>\n",
       "      <td>2</td>\n",
       "      <td>Mimi</td>\n",
       "      <td>12</td>\n",
       "      <td>299</td>\n",
       "      <td>0</td>\n",
       "      <td>2</td>\n",
       "      <td>3</td>\n",
       "      <td>6</td>\n",
       "      <td>7</td>\n",
       "      <td>...</td>\n",
       "      <td>0.0</td>\n",
       "      <td>NaN</td>\n",
       "      <td>Tabby</td>\n",
       "      <td>CAT</td>\n",
       "      <td>-1</td>\n",
       "      <td>1</td>\n",
       "      <td>40</td>\n",
       "      <td>1</td>\n",
       "      <td>3</td>\n",
       "      <td>1</td>\n",
       "    </tr>\n",
       "    <tr>\n",
       "      <th>2</th>\n",
       "      <td>987baa1c7</td>\n",
       "      <td>2</td>\n",
       "      <td>Tabby Male</td>\n",
       "      <td>48</td>\n",
       "      <td>299</td>\n",
       "      <td>0</td>\n",
       "      <td>1</td>\n",
       "      <td>1</td>\n",
       "      <td>2</td>\n",
       "      <td>7</td>\n",
       "      <td>...</td>\n",
       "      <td>0.3</td>\n",
       "      <td>en</td>\n",
       "      <td>Tabby</td>\n",
       "      <td>CAT</td>\n",
       "      <td>-1</td>\n",
       "      <td>1</td>\n",
       "      <td>707</td>\n",
       "      <td>1</td>\n",
       "      <td>3</td>\n",
       "      <td>1</td>\n",
       "    </tr>\n",
       "    <tr>\n",
       "      <th>3</th>\n",
       "      <td>5c546c236</td>\n",
       "      <td>2</td>\n",
       "      <td>Manja</td>\n",
       "      <td>4</td>\n",
       "      <td>299</td>\n",
       "      <td>0</td>\n",
       "      <td>2</td>\n",
       "      <td>1</td>\n",
       "      <td>2</td>\n",
       "      <td>0</td>\n",
       "      <td>...</td>\n",
       "      <td>0.4</td>\n",
       "      <td>en</td>\n",
       "      <td>Tabby</td>\n",
       "      <td>CAT</td>\n",
       "      <td>-1</td>\n",
       "      <td>1</td>\n",
       "      <td>130</td>\n",
       "      <td>1</td>\n",
       "      <td>2</td>\n",
       "      <td>1</td>\n",
       "    </tr>\n",
       "    <tr>\n",
       "      <th>4</th>\n",
       "      <td>c2346525a</td>\n",
       "      <td>2</td>\n",
       "      <td>Cham</td>\n",
       "      <td>8</td>\n",
       "      <td>299</td>\n",
       "      <td>0</td>\n",
       "      <td>1</td>\n",
       "      <td>3</td>\n",
       "      <td>0</td>\n",
       "      <td>0</td>\n",
       "      <td>...</td>\n",
       "      <td>0.5</td>\n",
       "      <td>en</td>\n",
       "      <td>Tabby</td>\n",
       "      <td>CAT</td>\n",
       "      <td>-1</td>\n",
       "      <td>1</td>\n",
       "      <td>99</td>\n",
       "      <td>1</td>\n",
       "      <td>1</td>\n",
       "      <td>1</td>\n",
       "    </tr>\n",
       "  </tbody>\n",
       "</table>\n",
       "<p>5 rows × 35 columns</p>\n",
       "</div>"
      ],
      "text/plain": [
       "       PetID  Type        Name  Age  Breed1  Breed2  Gender  Color1  Color2  \\\n",
       "0  86e1089a3     2      Nibble    3     299       0       1       1       7   \n",
       "1  1bf1f95ef     2        Mimi   12     299       0       2       3       6   \n",
       "2  987baa1c7     2  Tabby Male   48     299       0       1       1       2   \n",
       "3  5c546c236     2       Manja    4     299       0       2       1       2   \n",
       "4  c2346525a     2        Cham    8     299       0       1       3       0   \n",
       "\n",
       "   Color3   ...     score  language  BreedName  BreedGroup  BreedGroupID  \\\n",
       "0       0   ...       0.3        en      Tabby         CAT            -1   \n",
       "1       7   ...       0.0       NaN      Tabby         CAT            -1   \n",
       "2       7   ...       0.3        en      Tabby         CAT            -1   \n",
       "3       0   ...       0.4        en      Tabby         CAT            -1   \n",
       "4       0   ...       0.5        en      Tabby         CAT            -1   \n",
       "\n",
       "   purebred  desc_len  start_cap  num_colors has_name  \n",
       "0         1       359          1           2        1  \n",
       "1         1        40          1           3        1  \n",
       "2         1       707          1           3        1  \n",
       "3         1       130          1           2        1  \n",
       "4         1        99          1           1        1  \n",
       "\n",
       "[5 rows x 35 columns]"
      ]
     },
     "execution_count": 264,
     "metadata": {},
     "output_type": "execute_result"
    }
   ],
   "source": [
    "pet_df.head()"
   ]
  },
  {
   "cell_type": "code",
   "execution_count": 354,
   "metadata": {},
   "outputs": [
    {
     "name": "stderr",
     "output_type": "stream",
     "text": [
      "C:\\Users\\alexg\\Anaconda3\\lib\\site-packages\\sklearn\\preprocessing\\data.py:625: DataConversionWarning: Data with input dtype uint8, int64, float64 were all converted to float64 by StandardScaler.\n",
      "  return self.partial_fit(X, y)\n",
      "C:\\Users\\alexg\\Anaconda3\\lib\\site-packages\\sklearn\\base.py:462: DataConversionWarning: Data with input dtype uint8, int64, float64 were all converted to float64 by StandardScaler.\n",
      "  return self.fit(X, **fit_params).transform(X)\n",
      "C:\\Users\\alexg\\Anaconda3\\lib\\site-packages\\ipykernel_launcher.py:34: DataConversionWarning: Data with input dtype uint8, int64, float64 were all converted to float64 by StandardScaler.\n"
     ]
    }
   ],
   "source": [
    "seed = 10\n",
    "dummify = [\n",
    "    'Gender'\n",
    "]\n",
    "pet_df = pd.read_csv('data_minus_images/train_feateng.csv', index_col=0)\n",
    "pet_df['Type'] = pet_df['Type']-1\n",
    "pet_df['Sterilized'] = \n",
    "dummies = pd.get_dummies(pet_df[dummify],columns=dummify)\n",
    "pet_df = pd.concat([pet_df,dummies],axis=1)\n",
    "drop_columns = [\n",
    "                'Name'\n",
    "                ,'Breed1'\n",
    "                ,'Breed2'\n",
    "                ,'RescuerID'\n",
    "                ,'Description'\n",
    "                ,'PetID'\n",
    "                ,'AdoptionSpeed'\n",
    "                ,'language'\n",
    "                ,'BreedGroup'\n",
    "                ,'BreedGroupID'\n",
    "                ,'BreedName'\n",
    "                ,'Color1'\n",
    "                ,'Color2'\n",
    "                ,'Color3'\n",
    "                ,'Gender_3'\n",
    "                ,'State'\n",
    "               ]\n",
    "target = 'AdoptionSpeed' \n",
    "X = pet_df.drop(columns=drop_columns+dummify)\n",
    "y = pet_df[target].astype('str')\n",
    "\n",
    "sclr = StandardScaler()\n",
    "X_train, X_val, y_train, y_val = train_test_split(X, y, test_size=0.2, random_state=seed)\n",
    "X_train = sclr.fit_transform(X_train)\n",
    "X_val = sclr.transform(X_val)"
   ]
  },
  {
   "cell_type": "code",
   "execution_count": 355,
   "metadata": {},
   "outputs": [
    {
     "data": {
      "text/plain": [
       "21"
      ]
     },
     "execution_count": 355,
     "metadata": {},
     "output_type": "execute_result"
    }
   ],
   "source": [
    "X_train.shape[1]"
   ]
  },
  {
   "cell_type": "code",
   "execution_count": 356,
   "metadata": {},
   "outputs": [
    {
     "name": "stdout",
     "output_type": "stream",
     "text": [
      "Train on 11990 samples, validate on 2998 samples\n",
      "Epoch 1/30\n",
      "11990/11990 [==============================] - 4s 299us/step - loss: 1.4258 - mean_absolute_error: 1.4258 - val_loss: 1.0501 - val_mean_absolute_error: 1.0501\n",
      "Epoch 2/30\n",
      "11990/11990 [==============================] - 1s 71us/step - loss: 1.0693 - mean_absolute_error: 1.0693 - val_loss: 1.0391 - val_mean_absolute_error: 1.0391\n",
      "Epoch 3/30\n",
      "11990/11990 [==============================] - 1s 69us/step - loss: 1.0443 - mean_absolute_error: 1.0443 - val_loss: 1.0383 - val_mean_absolute_error: 1.0383\n",
      "Epoch 4/30\n",
      "11990/11990 [==============================] - 1s 69us/step - loss: 1.0372 - mean_absolute_error: 1.0372 - val_loss: 1.0255 - val_mean_absolute_error: 1.0255\n",
      "Epoch 5/30\n",
      "11990/11990 [==============================] - 1s 68us/step - loss: 1.0290 - mean_absolute_error: 1.0290 - val_loss: 1.0121 - val_mean_absolute_error: 1.0121\n",
      "Epoch 6/30\n",
      "11990/11990 [==============================] - 1s 68us/step - loss: 1.0165 - mean_absolute_error: 1.0165 - val_loss: 0.9960 - val_mean_absolute_error: 0.9960\n",
      "Epoch 7/30\n",
      "11990/11990 [==============================] - 1s 62us/step - loss: 1.0071 - mean_absolute_error: 1.0071 - val_loss: 0.9984 - val_mean_absolute_error: 0.9984\n",
      "Epoch 8/30\n",
      "11990/11990 [==============================] - 1s 66us/step - loss: 1.0000 - mean_absolute_error: 1.0000 - val_loss: 0.9833 - val_mean_absolute_error: 0.9833\n",
      "Epoch 9/30\n",
      "11990/11990 [==============================] - 1s 67us/step - loss: 0.9981 - mean_absolute_error: 0.9981 - val_loss: 0.9773 - val_mean_absolute_error: 0.9773\n",
      "Epoch 10/30\n",
      "11990/11990 [==============================] - 1s 66us/step - loss: 0.9949 - mean_absolute_error: 0.9949 - val_loss: 0.9726 - val_mean_absolute_error: 0.9726\n",
      "Epoch 11/30\n",
      "11990/11990 [==============================] - 1s 62us/step - loss: 0.9842 - mean_absolute_error: 0.9842 - val_loss: 0.9721 - val_mean_absolute_error: 0.9721\n",
      "Epoch 12/30\n",
      "11990/11990 [==============================] - 1s 70us/step - loss: 0.9788 - mean_absolute_error: 0.9788 - val_loss: 0.9665 - val_mean_absolute_error: 0.9665\n",
      "Epoch 13/30\n",
      "11990/11990 [==============================] - 1s 71us/step - loss: 0.9749 - mean_absolute_error: 0.9749 - val_loss: 0.9628 - val_mean_absolute_error: 0.9628\n",
      "Epoch 14/30\n",
      "11990/11990 [==============================] - 1s 70us/step - loss: 0.9707 - mean_absolute_error: 0.9707 - val_loss: 0.9597 - val_mean_absolute_error: 0.9597\n",
      "Epoch 15/30\n",
      "11990/11990 [==============================] - 1s 69us/step - loss: 0.9673 - mean_absolute_error: 0.9673 - val_loss: 0.9559 - val_mean_absolute_error: 0.9559\n",
      "Epoch 16/30\n",
      "11990/11990 [==============================] - 1s 63us/step - loss: 0.9648 - mean_absolute_error: 0.9648 - val_loss: 0.9471 - val_mean_absolute_error: 0.9471\n",
      "Epoch 17/30\n",
      "11990/11990 [==============================] - 1s 65us/step - loss: 0.9605 - mean_absolute_error: 0.9605 - val_loss: 0.9524 - val_mean_absolute_error: 0.9524\n",
      "Epoch 18/30\n",
      "11990/11990 [==============================] - 1s 62us/step - loss: 0.9568 - mean_absolute_error: 0.9568 - val_loss: 0.9457 - val_mean_absolute_error: 0.9457\n",
      "Epoch 19/30\n",
      "11990/11990 [==============================] - 1s 63us/step - loss: 0.9494 - mean_absolute_error: 0.9494 - val_loss: 0.9381 - val_mean_absolute_error: 0.9381\n",
      "Epoch 20/30\n",
      "11990/11990 [==============================] - 1s 64us/step - loss: 0.9481 - mean_absolute_error: 0.9481 - val_loss: 0.9438 - val_mean_absolute_error: 0.9438\n",
      "Epoch 21/30\n",
      "11990/11990 [==============================] - 1s 63us/step - loss: 0.9441 - mean_absolute_error: 0.9441 - val_loss: 0.9353 - val_mean_absolute_error: 0.9353\n",
      "Epoch 22/30\n",
      "11990/11990 [==============================] - 1s 63us/step - loss: 0.9403 - mean_absolute_error: 0.9403 - val_loss: 0.9435 - val_mean_absolute_error: 0.9435\n",
      "Epoch 23/30\n",
      "11990/11990 [==============================] - 1s 63us/step - loss: 0.9383 - mean_absolute_error: 0.9383 - val_loss: 0.9401 - val_mean_absolute_error: 0.9401\n",
      "Epoch 24/30\n",
      "11990/11990 [==============================] - 1s 62us/step - loss: 0.9390 - mean_absolute_error: 0.9390 - val_loss: 0.9354 - val_mean_absolute_error: 0.9354\n",
      "Epoch 25/30\n",
      "11990/11990 [==============================] - 1s 63us/step - loss: 0.9314 - mean_absolute_error: 0.9314 - val_loss: 0.9302 - val_mean_absolute_error: 0.9302\n",
      "Epoch 26/30\n",
      "11990/11990 [==============================] - 1s 64us/step - loss: 0.9341 - mean_absolute_error: 0.9341 - val_loss: 0.9345 - val_mean_absolute_error: 0.9345\n",
      "Epoch 27/30\n",
      "11990/11990 [==============================] - 1s 63us/step - loss: 0.9301 - mean_absolute_error: 0.9301 - val_loss: 0.9254 - val_mean_absolute_error: 0.9254\n",
      "Epoch 28/30\n",
      "11990/11990 [==============================] - 1s 62us/step - loss: 0.9248 - mean_absolute_error: 0.9248 - val_loss: 0.9304 - val_mean_absolute_error: 0.9304\n",
      "Epoch 29/30\n",
      "11990/11990 [==============================] - 1s 62us/step - loss: 0.9311 - mean_absolute_error: 0.9311 - val_loss: 0.9323 - val_mean_absolute_error: 0.9323\n",
      "Epoch 30/30\n",
      "11990/11990 [==============================] - 1s 62us/step - loss: 0.9284 - mean_absolute_error: 0.9284 - val_loss: 0.9404 - val_mean_absolute_error: 0.9404\n"
     ]
    }
   ],
   "source": [
    "nn = Sequential()\n",
    "\n",
    "# input layer\n",
    "nn.add(Dense(64, activation='selu', input_dim=(X_train.shape[1])))\n",
    "\n",
    "# hidden lyaers\n",
    "nn.add(Dense(32, activation='relu'))\n",
    "nn.add(Dropout(0.5))\n",
    "nn.add(Dense(32, activation='selu'))\n",
    "nn.add(Dropout(0.5))\n",
    "nn.add(Dense(16, activation='selu'))\n",
    "nn.add(Dropout(0.5))\n",
    "nn.add(Dense(10, activation='selu'))\n",
    "nn.add(Dense(5, activation='selu'))\n",
    "\n",
    "# output layer\n",
    "nn.add(Dense(1,activation='linear'))\n",
    "\n",
    "nn.compile(loss=keras.losses.mean_absolute_error, optimizer=keras.optimizers.Adam(), metrics=['mae'])\n",
    "\n",
    "trained = nn.fit(X_train, y_train, batch_size=64,epochs=30,verbose=1,validation_data=(X_val, y_val))"
   ]
  },
  {
   "cell_type": "code",
   "execution_count": 357,
   "metadata": {},
   "outputs": [],
   "source": [
    "y_predict = nn.predict(X_val)"
   ]
  },
  {
   "cell_type": "code",
   "execution_count": 358,
   "metadata": {},
   "outputs": [
    {
     "data": {
      "text/plain": [
       "array([[<matplotlib.axes._subplots.AxesSubplot object at 0x000002649C32E198>]],\n",
       "      dtype=object)"
      ]
     },
     "execution_count": 358,
     "metadata": {},
     "output_type": "execute_result"
    },
    {
     "data": {
      "image/png": "[encoded data removed]",
      "text/plain": [
       "<Figure size 432x288 with 1 Axes>"
      ]
     },
     "metadata": {},
     "output_type": "display_data"
    }
   ],
   "source": [
    "y_predict = y_predict.reshape((1,-1)).round()[0]\n",
    "pd.DataFrame(y_predict).hist()"
   ]
  },
  {
   "cell_type": "code",
   "execution_count": 359,
   "metadata": {},
   "outputs": [
    {
     "data": {
      "text/plain": [
       "0.1819076178770752"
      ]
     },
     "execution_count": 359,
     "metadata": {},
     "output_type": "execute_result"
    }
   ],
   "source": [
    "quadratic_weighted_kappa.quadratic_weighted_kappa(y_predict, y_val)"
   ]
  },
  {
   "cell_type": "code",
   "execution_count": 360,
   "metadata": {},
   "outputs": [],
   "source": [
    "y_predict = nn.predict(X_val)"
   ]
  },
  {
   "cell_type": "code",
   "execution_count": 361,
   "metadata": {},
   "outputs": [
    {
     "data": {
      "text/plain": [
       "2.0009153"
      ]
     },
     "execution_count": 361,
     "metadata": {},
     "output_type": "execute_result"
    }
   ],
   "source": [
    "y_predict.min()"
   ]
  },
  {
   "cell_type": "code",
   "execution_count": 362,
   "metadata": {},
   "outputs": [
    {
     "data": {
      "text/plain": [
       "array([[<matplotlib.axes._subplots.AxesSubplot object at 0x00000264A13630B8>]],\n",
       "      dtype=object)"
      ]
     },
     "execution_count": 362,
     "metadata": {},
     "output_type": "execute_result"
    },
    {
     "data": {
      "image/png": "[encoded data removed]",
      "text/plain": [
       "<Figure size 432x288 with 1 Axes>"
      ]
     },
     "metadata": {},
     "output_type": "display_data"
    }
   ],
   "source": [
    "pd.DataFrame(y_predict).hist(bins=10)"
   ]
  },
  {
   "cell_type": "code",
   "execution_count": 363,
   "metadata": {},
   "outputs": [
    {
     "data": {
      "text/plain": [
       "array([[2.],\n",
       "       [4.],\n",
       "       [2.],\n",
       "       ...,\n",
       "       [4.],\n",
       "       [2.],\n",
       "       [3.]], dtype=float32)"
      ]
     },
     "execution_count": 363,
     "metadata": {},
     "output_type": "execute_result"
    }
   ],
   "source": [
    "y_predict_2 = y_predict.copy()\n",
    "bottom = y_predict.min()\n",
    "y_predict_2[y_predict==bottom] = 1\n",
    "y_predict_2[y_predict>bottom] = 2\n",
    "y_predict_2[y_predict>2.8] = 3\n",
    "y_predict_2[y_predict>3] = 4\n",
    "y_predict_2"
   ]
  },
  {
   "cell_type": "code",
   "execution_count": 364,
   "metadata": {},
   "outputs": [
    {
     "data": {
      "text/plain": [
       "array([[<matplotlib.axes._subplots.AxesSubplot object at 0x00000264A13058D0>]],\n",
       "      dtype=object)"
      ]
     },
     "execution_count": 364,
     "metadata": {},
     "output_type": "execute_result"
    },
    {
     "data": {
      "image/png": "[encoded data removed]",
      "text/plain": [
       "<Figure size 432x288 with 1 Axes>"
      ]
     },
     "metadata": {},
     "output_type": "display_data"
    }
   ],
   "source": [
    "y_predict_2 = y_predict_2.reshape((1,-1)).round()[0]\n",
    "pd.DataFrame(y_predict_2).hist()"
   ]
  },
  {
   "cell_type": "code",
   "execution_count": 365,
   "metadata": {},
   "outputs": [
    {
     "data": {
      "text/plain": [
       "0.24442270092840157"
      ]
     },
     "execution_count": 365,
     "metadata": {},
     "output_type": "execute_result"
    }
   ],
   "source": [
    "quadratic_weighted_kappa.quadratic_weighted_kappa(y_predict_2, y_val)"
   ]
  },
  {
   "cell_type": "code",
   "execution_count": 366,
   "metadata": {},
   "outputs": [
    {
     "name": "stderr",
     "output_type": "stream",
     "text": [
      "C:\\Users\\alexg\\Anaconda3\\lib\\site-packages\\sklearn\\linear_model\\logistic.py:433: FutureWarning: Default solver will be changed to 'lbfgs' in 0.22. Specify a solver to silence this warning.\n",
      "  FutureWarning)\n"
     ]
    },
    {
     "data": {
      "text/plain": [
       "0.16371231046193824"
      ]
     },
     "execution_count": 366,
     "metadata": {},
     "output_type": "execute_result"
    }
   ],
   "source": [
    "log = LogisticRegression(multi_class='ovr')\n",
    "log.fit(X_train, y_train)\n",
    "log_pred = log.predict(X_val)\n",
    "quadratic_weighted_kappa.quadratic_weighted_kappa(log_pred, y_val)"
   ]
  },
  {
   "cell_type": "code",
   "execution_count": 367,
   "metadata": {},
   "outputs": [
    {
     "data": {
      "text/plain": [
       "Index(['Type', 'Age', 'MaturitySize', 'FurLength', 'Vaccinated', 'Dewormed',\n",
       "       'Sterilized', 'Health', 'Quantity', 'Fee', 'VideoAmt', 'PhotoAmt',\n",
       "       'magnitude', 'score', 'purebred', 'desc_len', 'start_cap', 'num_colors',\n",
       "       'has_name', 'Gender_1', 'Gender_2'],\n",
       "      dtype='object')"
      ]
     },
     "execution_count": 367,
     "metadata": {},
     "output_type": "execute_result"
    }
   ],
   "source": [
    "X.columns"
   ]
  },
  {
   "cell_type": "code",
   "execution_count": 373,
   "metadata": {},
   "outputs": [
    {
     "name": "stdout",
     "output_type": "stream",
     "text": [
      "Important features for 0: ['PhotoAmt', 'magnitude', 'MaturitySize', 'start_cap', 'Vaccinated']\n",
      "Important features for 1: ['Age', 'Quantity', 'Gender_2', 'score', 'Health']\n",
      "Important features for 2: ['Age', 'Dewormed', 'desc_len', 'Health', 'score']\n",
      "Important features for 3: ['Type', 'Gender_1', 'Quantity', 'Gender_2', 'Sterilized']\n",
      "Important features for 4: ['PhotoAmt', 'purebred', 'magnitude', 'FurLength', 'Vaccinated']\n"
     ]
    }
   ],
   "source": [
    "for i in range(0,5):\n",
    "    print('Important features for {0}: {1}'.format(i, list(X.columns[np.argsort(log.coef_[i])][:5])))"
   ]
  },
  {
   "cell_type": "code",
   "execution_count": 374,
   "metadata": {},
   "outputs": [
    {
     "name": "stdout",
     "output_type": "stream",
     "text": [
      "Important features for 0: ['FurLength', 'Type', 'Sterilized', 'has_name', 'Gender_2']\n",
      "Important features for 1: ['purebred', 'FurLength', 'Sterilized', 'magnitude', 'Vaccinated']\n",
      "Important features for 2: ['Vaccinated', 'Gender_1', 'magnitude', 'purebred', 'start_cap']\n",
      "Important features for 3: ['PhotoAmt', 'has_name', 'start_cap', 'magnitude', 'Health']\n",
      "Important features for 4: ['Age', 'Quantity', 'Dewormed', 'score', 'Type']\n"
     ]
    }
   ],
   "source": [
    "for i in range(0,5):\n",
    "    print('Important features for {0}: {1}'.format(i, list(X.columns[np.argsort(log.coef_[i])][::-1][:5])))"
   ]
  },
  {
   "cell_type": "markdown",
   "metadata": {},
   "source": [
    "### Next steps\n",
    "* Smart dummification of 'Sterilized'\n",
    "* Age < 6 months\n",
    "* Drop day 0 adoptees from training\n",
    "* Select common breeds"
   ]
  },
  {
   "cell_type": "code",
   "execution_count": 399,
   "metadata": {},
   "outputs": [],
   "source": [
    "import matplotlib.pyplot as plt\n",
    "import seaborn as sns"
   ]
  },
  {
   "cell_type": "code",
   "execution_count": 406,
   "metadata": {},
   "outputs": [
    {
     "data": {
      "text/plain": [
       "<matplotlib.axes._subplots.AxesSubplot at 0x264bd4f46a0>"
      ]
     },
     "execution_count": 406,
     "metadata": {},
     "output_type": "execute_result"
    },
    {
     "data": {
      "image/png": "[encoded data removed]",
      "text/plain": [
       "<Figure size 432x288 with 1 Axes>"
      ]
     },
     "metadata": {},
     "output_type": "display_data"
    }
   ],
   "source": [
    "sns.violinplot(y.astype('int'),X['Age'][X['Age']>=60])"
   ]
  },
  {
   "cell_type": "code",
   "execution_count": 395,
   "metadata": {},
   "outputs": [
    {
     "data": {
      "text/plain": [
       "0        2\n",
       "1        4\n",
       "2        2\n",
       "3        4\n",
       "4        2\n",
       "5        2\n",
       "6        2\n",
       "7        4\n",
       "8        3\n",
       "9        4\n",
       "10       2\n",
       "11       2\n",
       "12       2\n",
       "13       4\n",
       "14       4\n",
       "15       2\n",
       "16       2\n",
       "17       1\n",
       "18       2\n",
       "19       3\n",
       "20       1\n",
       "21       3\n",
       "22       1\n",
       "23       2\n",
       "24       3\n",
       "25       1\n",
       "26       2\n",
       "27       4\n",
       "28       2\n",
       "29       4\n",
       "        ..\n",
       "14958    2\n",
       "14959    0\n",
       "14960    2\n",
       "14961    1\n",
       "14962    3\n",
       "14963    3\n",
       "14964    1\n",
       "14965    3\n",
       "14966    2\n",
       "14967    2\n",
       "14968    2\n",
       "14969    3\n",
       "14970    0\n",
       "14971    3\n",
       "14972    4\n",
       "14973    4\n",
       "14974    1\n",
       "14975    2\n",
       "14976    1\n",
       "14977    4\n",
       "14978    2\n",
       "14979    4\n",
       "14980    4\n",
       "14981    0\n",
       "14982    3\n",
       "14983    2\n",
       "14984    1\n",
       "14985    3\n",
       "14986    1\n",
       "14987    1\n",
       "Name: AdoptionSpeed, Length: 14988, dtype: object"
      ]
     },
     "execution_count": 395,
     "metadata": {},
     "output_type": "execute_result"
    }
   ],
   "source": []
  },
  {
   "cell_type": "code",
   "execution_count": null,
   "metadata": {},
   "outputs": [],
   "source": []
  }
 ],
 "metadata": {
  "kernelspec": {
   "display_name": "Python 3",
   "language": "python",
   "name": "python3"
  },
  "language_info": {
   "codemirror_mode": {
    "name": "ipython",
    "version": 3
   },
   "file_extension": ".py",
   "mimetype": "text/x-python",
   "name": "python",
   "nbconvert_exporter": "python",
   "pygments_lexer": "ipython3",
   "version": "3.6.5"
  }
 },
 "nbformat": 4,
 "nbformat_minor": 2
}
