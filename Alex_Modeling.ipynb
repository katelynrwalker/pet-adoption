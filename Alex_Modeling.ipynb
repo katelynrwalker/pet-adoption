{
 "cells": [
  {
   "cell_type": "code",
   "execution_count": 1,
   "metadata": {},
   "outputs": [
    {
     "name": "stderr",
     "output_type": "stream",
     "text": [
      "C:\\Users\\alexg\\Anaconda3\\lib\\site-packages\\h5py\\__init__.py:36: FutureWarning: Conversion of the second argument of issubdtype from `float` to `np.floating` is deprecated. In future, it will be treated as `np.float64 == np.dtype(float).type`.\n",
      "  from ._conv import register_converters as _register_converters\n",
      "Using TensorFlow backend.\n"
     ]
    }
   ],
   "source": [
    "import pandas as pd\n",
    "import feature_engineering\n",
    "import quadratic_weighted_kappa\n",
    "\n",
    "from sklearn.model_selection import train_test_split\n",
    "\n",
    "import keras\n",
    "from keras.models import Sequential,Input,Model\n",
    "from keras.layers import Dense, Dropout, Flatten\n",
    "from keras.layers.normalization import BatchNormalization\n",
    "from keras.layers.advanced_activations import LeakyReLU\n",
    "from keras.utils import to_categorical\n",
    "\n",
    "%reload_ext autoreload\n",
    "%autoreload 2"
   ]
  },
  {
   "cell_type": "code",
   "execution_count": 2,
   "metadata": {},
   "outputs": [],
   "source": [
    "data = pd.read_csv('data_minus_images/train.csv')"
   ]
  },
  {
   "cell_type": "code",
   "execution_count": 3,
   "metadata": {},
   "outputs": [],
   "source": [
    "pet_df = feature_engineering.add_everything(data)"
   ]
  },
  {
   "cell_type": "code",
   "execution_count": 4,
   "metadata": {},
   "outputs": [
    {
     "data": {
      "text/html": [
       "<div>\n",
       "<style scoped>\n",
       "    .dataframe tbody tr th:only-of-type {\n",
       "        vertical-align: middle;\n",
       "    }\n",
       "\n",
       "    .dataframe tbody tr th {\n",
       "        vertical-align: top;\n",
       "    }\n",
       "\n",
       "    .dataframe thead th {\n",
       "        text-align: right;\n",
       "    }\n",
       "</style>\n",
       "<table border=\"1\" class=\"dataframe\">\n",
       "  <thead>\n",
       "    <tr style=\"text-align: right;\">\n",
       "      <th></th>\n",
       "      <th>PetID</th>\n",
       "      <th>Type</th>\n",
       "      <th>Name</th>\n",
       "      <th>Age</th>\n",
       "      <th>Breed1</th>\n",
       "      <th>Breed2</th>\n",
       "      <th>Gender</th>\n",
       "      <th>Color1</th>\n",
       "      <th>Color2</th>\n",
       "      <th>Color3</th>\n",
       "      <th>...</th>\n",
       "      <th>score</th>\n",
       "      <th>language</th>\n",
       "      <th>BreedName</th>\n",
       "      <th>BreedGroup</th>\n",
       "      <th>BreedGroupID</th>\n",
       "      <th>purebred</th>\n",
       "      <th>desc_len</th>\n",
       "      <th>start_cap</th>\n",
       "      <th>num_colors</th>\n",
       "      <th>has_name</th>\n",
       "    </tr>\n",
       "  </thead>\n",
       "  <tbody>\n",
       "    <tr>\n",
       "      <th>0</th>\n",
       "      <td>86e1089a3</td>\n",
       "      <td>2</td>\n",
       "      <td>Nibble</td>\n",
       "      <td>3</td>\n",
       "      <td>299</td>\n",
       "      <td>0</td>\n",
       "      <td>1</td>\n",
       "      <td>1</td>\n",
       "      <td>7</td>\n",
       "      <td>0</td>\n",
       "      <td>...</td>\n",
       "      <td>0.3</td>\n",
       "      <td>en</td>\n",
       "      <td>Tabby</td>\n",
       "      <td>CAT</td>\n",
       "      <td>-1</td>\n",
       "      <td>1</td>\n",
       "      <td>359</td>\n",
       "      <td>1</td>\n",
       "      <td>2</td>\n",
       "      <td>1</td>\n",
       "    </tr>\n",
       "    <tr>\n",
       "      <th>1</th>\n",
       "      <td>1bf1f95ef</td>\n",
       "      <td>2</td>\n",
       "      <td>Mimi</td>\n",
       "      <td>12</td>\n",
       "      <td>299</td>\n",
       "      <td>0</td>\n",
       "      <td>2</td>\n",
       "      <td>3</td>\n",
       "      <td>6</td>\n",
       "      <td>7</td>\n",
       "      <td>...</td>\n",
       "      <td>0.0</td>\n",
       "      <td>None</td>\n",
       "      <td>Tabby</td>\n",
       "      <td>CAT</td>\n",
       "      <td>-1</td>\n",
       "      <td>1</td>\n",
       "      <td>40</td>\n",
       "      <td>1</td>\n",
       "      <td>3</td>\n",
       "      <td>1</td>\n",
       "    </tr>\n",
       "    <tr>\n",
       "      <th>2</th>\n",
       "      <td>987baa1c7</td>\n",
       "      <td>2</td>\n",
       "      <td>Tabby Male</td>\n",
       "      <td>48</td>\n",
       "      <td>299</td>\n",
       "      <td>0</td>\n",
       "      <td>1</td>\n",
       "      <td>1</td>\n",
       "      <td>2</td>\n",
       "      <td>7</td>\n",
       "      <td>...</td>\n",
       "      <td>0.3</td>\n",
       "      <td>en</td>\n",
       "      <td>Tabby</td>\n",
       "      <td>CAT</td>\n",
       "      <td>-1</td>\n",
       "      <td>1</td>\n",
       "      <td>707</td>\n",
       "      <td>1</td>\n",
       "      <td>3</td>\n",
       "      <td>1</td>\n",
       "    </tr>\n",
       "    <tr>\n",
       "      <th>3</th>\n",
       "      <td>5c546c236</td>\n",
       "      <td>2</td>\n",
       "      <td>Manja</td>\n",
       "      <td>4</td>\n",
       "      <td>299</td>\n",
       "      <td>0</td>\n",
       "      <td>2</td>\n",
       "      <td>1</td>\n",
       "      <td>2</td>\n",
       "      <td>0</td>\n",
       "      <td>...</td>\n",
       "      <td>0.4</td>\n",
       "      <td>en</td>\n",
       "      <td>Tabby</td>\n",
       "      <td>CAT</td>\n",
       "      <td>-1</td>\n",
       "      <td>1</td>\n",
       "      <td>130</td>\n",
       "      <td>1</td>\n",
       "      <td>2</td>\n",
       "      <td>1</td>\n",
       "    </tr>\n",
       "    <tr>\n",
       "      <th>4</th>\n",
       "      <td>c2346525a</td>\n",
       "      <td>2</td>\n",
       "      <td>Cham</td>\n",
       "      <td>8</td>\n",
       "      <td>299</td>\n",
       "      <td>0</td>\n",
       "      <td>1</td>\n",
       "      <td>3</td>\n",
       "      <td>0</td>\n",
       "      <td>0</td>\n",
       "      <td>...</td>\n",
       "      <td>0.5</td>\n",
       "      <td>en</td>\n",
       "      <td>Tabby</td>\n",
       "      <td>CAT</td>\n",
       "      <td>-1</td>\n",
       "      <td>1</td>\n",
       "      <td>99</td>\n",
       "      <td>1</td>\n",
       "      <td>1</td>\n",
       "      <td>1</td>\n",
       "    </tr>\n",
       "  </tbody>\n",
       "</table>\n",
       "<p>5 rows × 35 columns</p>\n",
       "</div>"
      ],
      "text/plain": [
       "       PetID  Type        Name  Age  Breed1  Breed2  Gender  Color1  Color2  \\\n",
       "0  86e1089a3     2      Nibble    3     299       0       1       1       7   \n",
       "1  1bf1f95ef     2        Mimi   12     299       0       2       3       6   \n",
       "2  987baa1c7     2  Tabby Male   48     299       0       1       1       2   \n",
       "3  5c546c236     2       Manja    4     299       0       2       1       2   \n",
       "4  c2346525a     2        Cham    8     299       0       1       3       0   \n",
       "\n",
       "   Color3   ...     score  language  BreedName  BreedGroup  BreedGroupID  \\\n",
       "0       0   ...       0.3        en      Tabby         CAT            -1   \n",
       "1       7   ...       0.0      None      Tabby         CAT            -1   \n",
       "2       7   ...       0.3        en      Tabby         CAT            -1   \n",
       "3       0   ...       0.4        en      Tabby         CAT            -1   \n",
       "4       0   ...       0.5        en      Tabby         CAT            -1   \n",
       "\n",
       "   purebred  desc_len  start_cap  num_colors has_name  \n",
       "0         1       359          1           2        1  \n",
       "1         1        40          1           3        1  \n",
       "2         1       707          1           3        1  \n",
       "3         1       130          1           2        1  \n",
       "4         1        99          1           1        1  \n",
       "\n",
       "[5 rows x 35 columns]"
      ]
     },
     "execution_count": 4,
     "metadata": {},
     "output_type": "execute_result"
    }
   ],
   "source": [
    "pet_df.head()"
   ]
  },
  {
   "cell_type": "code",
   "execution_count": null,
   "metadata": {},
   "outputs": [],
   "source": []
  },
  {
   "cell_type": "code",
   "execution_count": 5,
   "metadata": {},
   "outputs": [],
   "source": [
    "X = pet_df.drop(columns=['Name','RescuerID','Description','PetID','AdoptionSpeed', 'BreedName', 'BreedGroupID'])\n",
    "y = pet_df['AdoptionSpeed'].astype('str')"
   ]
  },
  {
   "cell_type": "code",
   "execution_count": 6,
   "metadata": {},
   "outputs": [],
   "source": [
    "cat_features = ['Type', 'Breed1', 'Breed2', 'Gender', 'Color1', 'Color2',\n",
    "       'Color3', 'MaturitySize', 'FurLength', 'Vaccinated', 'Dewormed',\n",
    "       'Sterilized', 'Health', 'State', 'language', 'BreedGroup']"
   ]
  },
  {
   "cell_type": "code",
   "execution_count": 7,
   "metadata": {},
   "outputs": [],
   "source": [
    "for feat in cat_features:\n",
    "    dummies = pd.get_dummies(X[feat], prefix=feat)\n",
    "    dummies.drop(dummies.columns[-1], axis=1, inplace=True)\n",
    "    X = X.drop(feat, axis=1).merge(dummies, left_index=True, right_index=True)"
   ]
  },
  {
   "cell_type": "code",
   "execution_count": 8,
   "metadata": {},
   "outputs": [],
   "source": [
    "y_one = pd.get_dummies(y)"
   ]
  },
  {
   "cell_type": "code",
   "execution_count": 9,
   "metadata": {},
   "outputs": [],
   "source": [
    "X_train, X_test, y_train, y_test = train_test_split(X, y, test_size=0.20, random_state=42)"
   ]
  },
  {
   "cell_type": "code",
   "execution_count": 37,
   "metadata": {},
   "outputs": [
    {
     "data": {
      "text/plain": [
       "370"
      ]
     },
     "execution_count": 37,
     "metadata": {},
     "output_type": "execute_result"
    }
   ],
   "source": [
    "X_train.shape[1]"
   ]
  },
  {
   "cell_type": "code",
   "execution_count": 185,
   "metadata": {},
   "outputs": [
    {
     "name": "stdout",
     "output_type": "stream",
     "text": [
      "Train on 11990 samples, validate on 2998 samples\n",
      "Epoch 1/50\n",
      "11990/11990 [==============================] - 4s 356us/step - loss: 3.8599 - mean_absolute_error: 3.8599 - val_loss: 2.3459 - val_mean_absolute_error: 2.3459\n",
      "Epoch 2/50\n",
      "11990/11990 [==============================] - 2s 158us/step - loss: 2.1540 - mean_absolute_error: 2.1540 - val_loss: 1.9795 - val_mean_absolute_error: 1.9795\n",
      "Epoch 3/50\n",
      "11990/11990 [==============================] - 2s 141us/step - loss: 1.7813 - mean_absolute_error: 1.7813 - val_loss: 1.4949 - val_mean_absolute_error: 1.4949\n",
      "Epoch 4/50\n",
      "11990/11990 [==============================] - 3s 221us/step - loss: 1.4378 - mean_absolute_error: 1.4378 - val_loss: 1.2841 - val_mean_absolute_error: 1.2841\n",
      "Epoch 5/50\n",
      "11990/11990 [==============================] - 3s 213us/step - loss: 1.2100 - mean_absolute_error: 1.2100 - val_loss: 1.0557 - val_mean_absolute_error: 1.0557\n",
      "Epoch 6/50\n",
      "11990/11990 [==============================] - 3s 217us/step - loss: 1.1034 - mean_absolute_error: 1.1034 - val_loss: 1.0311 - val_mean_absolute_error: 1.0311\n",
      "Epoch 7/50\n",
      "11990/11990 [==============================] - 3s 220us/step - loss: 1.0761 - mean_absolute_error: 1.0761 - val_loss: 1.0298 - val_mean_absolute_error: 1.0298\n",
      "Epoch 8/50\n",
      "11990/11990 [==============================] - 3s 226us/step - loss: 1.0657 - mean_absolute_error: 1.0657 - val_loss: 1.0306 - val_mean_absolute_error: 1.0306\n",
      "Epoch 9/50\n",
      "11990/11990 [==============================] - 2s 197us/step - loss: 1.0579 - mean_absolute_error: 1.0579 - val_loss: 1.0295 - val_mean_absolute_error: 1.0295\n",
      "Epoch 10/50\n",
      "11990/11990 [==============================] - 2s 175us/step - loss: 1.0531 - mean_absolute_error: 1.0531 - val_loss: 1.0314 - val_mean_absolute_error: 1.0314\n",
      "Epoch 11/50\n",
      "11990/11990 [==============================] - 2s 208us/step - loss: 1.0545 - mean_absolute_error: 1.0545 - val_loss: 1.0284 - val_mean_absolute_error: 1.0284\n",
      "Epoch 12/50\n",
      "11990/11990 [==============================] - 3s 241us/step - loss: 1.0449 - mean_absolute_error: 1.0449 - val_loss: 1.0298 - val_mean_absolute_error: 1.0298\n",
      "Epoch 13/50\n",
      "11990/11990 [==============================] - 2s 196us/step - loss: 1.0484 - mean_absolute_error: 1.0484 - val_loss: 1.0300 - val_mean_absolute_error: 1.0300\n",
      "Epoch 14/50\n",
      "11990/11990 [==============================] - 2s 150us/step - loss: 1.0436 - mean_absolute_error: 1.0436 - val_loss: 1.0286 - val_mean_absolute_error: 1.0286\n",
      "Epoch 15/50\n",
      "11990/11990 [==============================] - 2s 141us/step - loss: 1.0467 - mean_absolute_error: 1.0467 - val_loss: 1.0291 - val_mean_absolute_error: 1.0291\n",
      "Epoch 16/50\n",
      "11990/11990 [==============================] - 2s 163us/step - loss: 1.0449 - mean_absolute_error: 1.0449 - val_loss: 1.0277 - val_mean_absolute_error: 1.0277\n",
      "Epoch 17/50\n",
      "11990/11990 [==============================] - 2s 142us/step - loss: 1.0468 - mean_absolute_error: 1.0468 - val_loss: 1.0286 - val_mean_absolute_error: 1.0286\n",
      "Epoch 18/50\n",
      "11990/11990 [==============================] - 2s 140us/step - loss: 1.0475 - mean_absolute_error: 1.0475 - val_loss: 1.0273 - val_mean_absolute_error: 1.0273\n",
      "Epoch 19/50\n",
      "11990/11990 [==============================] - 2s 139us/step - loss: 1.0441 - mean_absolute_error: 1.0441 - val_loss: 1.0271 - val_mean_absolute_error: 1.0271\n",
      "Epoch 20/50\n",
      "11990/11990 [==============================] - 2s 149us/step - loss: 1.0455 - mean_absolute_error: 1.0455 - val_loss: 1.0273 - val_mean_absolute_error: 1.0273\n",
      "Epoch 21/50\n",
      "11990/11990 [==============================] - 2s 177us/step - loss: 1.0441 - mean_absolute_error: 1.0441 - val_loss: 1.0270 - val_mean_absolute_error: 1.0270\n",
      "Epoch 22/50\n",
      "11990/11990 [==============================] - 2s 179us/step - loss: 1.0445 - mean_absolute_error: 1.0445 - val_loss: 1.0266 - val_mean_absolute_error: 1.0266\n",
      "Epoch 23/50\n",
      "11990/11990 [==============================] - 2s 165us/step - loss: 1.0429 - mean_absolute_error: 1.0429 - val_loss: 1.0246 - val_mean_absolute_error: 1.0246\n",
      "Epoch 24/50\n",
      "11990/11990 [==============================] - 2s 169us/step - loss: 1.0461 - mean_absolute_error: 1.0461 - val_loss: 1.0265 - val_mean_absolute_error: 1.0265\n",
      "Epoch 25/50\n",
      "11990/11990 [==============================] - 2s 170us/step - loss: 1.0432 - mean_absolute_error: 1.0432 - val_loss: 1.0284 - val_mean_absolute_error: 1.0284\n",
      "Epoch 26/50\n",
      "11990/11990 [==============================] - 2s 163us/step - loss: 1.0395 - mean_absolute_error: 1.0395 - val_loss: 1.0257 - val_mean_absolute_error: 1.0257\n",
      "Epoch 27/50\n",
      "11990/11990 [==============================] - 2s 150us/step - loss: 1.0438 - mean_absolute_error: 1.0438 - val_loss: 1.0262 - val_mean_absolute_error: 1.0262\n",
      "Epoch 28/50\n",
      "11990/11990 [==============================] - 2s 142us/step - loss: 1.0419 - mean_absolute_error: 1.0419 - val_loss: 1.0265 - val_mean_absolute_error: 1.0265\n",
      "Epoch 29/50\n",
      "11990/11990 [==============================] - 2s 140us/step - loss: 1.0445 - mean_absolute_error: 1.0445 - val_loss: 1.0262 - val_mean_absolute_error: 1.0262\n",
      "Epoch 30/50\n",
      "11990/11990 [==============================] - 2s 142us/step - loss: 1.0411 - mean_absolute_error: 1.0411 - val_loss: 1.0241 - val_mean_absolute_error: 1.0241\n",
      "Epoch 31/50\n",
      "11990/11990 [==============================] - 2s 139us/step - loss: 1.0375 - mean_absolute_error: 1.0375 - val_loss: 1.0213 - val_mean_absolute_error: 1.0213\n",
      "Epoch 32/50\n",
      "11990/11990 [==============================] - 2s 147us/step - loss: 1.0420 - mean_absolute_error: 1.0420 - val_loss: 1.0231 - val_mean_absolute_error: 1.0231\n",
      "Epoch 33/50\n",
      "11990/11990 [==============================] - 2s 140us/step - loss: 1.0361 - mean_absolute_error: 1.0361 - val_loss: 1.0195 - val_mean_absolute_error: 1.0195\n",
      "Epoch 34/50\n",
      "11990/11990 [==============================] - 2s 141us/step - loss: 1.0386 - mean_absolute_error: 1.0386 - val_loss: 1.0218 - val_mean_absolute_error: 1.0218\n",
      "Epoch 35/50\n",
      "11990/11990 [==============================] - 2s 142us/step - loss: 1.0392 - mean_absolute_error: 1.0392 - val_loss: 1.0221 - val_mean_absolute_error: 1.0221\n",
      "Epoch 36/50\n",
      "11990/11990 [==============================] - 2s 146us/step - loss: 1.0350 - mean_absolute_error: 1.0350 - val_loss: 1.0214 - val_mean_absolute_error: 1.0214\n",
      "Epoch 37/50\n",
      "11990/11990 [==============================] - 2s 143us/step - loss: 1.0323 - mean_absolute_error: 1.0323 - val_loss: 1.0176 - val_mean_absolute_error: 1.0176\n",
      "Epoch 38/50\n",
      "11990/11990 [==============================] - 2s 141us/step - loss: 1.0378 - mean_absolute_error: 1.0378 - val_loss: 1.0230 - val_mean_absolute_error: 1.0230\n",
      "Epoch 39/50\n",
      "11990/11990 [==============================] - 2s 142us/step - loss: 1.0391 - mean_absolute_error: 1.0391 - val_loss: 1.0207 - val_mean_absolute_error: 1.0207\n",
      "Epoch 40/50\n",
      "11990/11990 [==============================] - 2s 145us/step - loss: 1.0311 - mean_absolute_error: 1.0311 - val_loss: 1.0144 - val_mean_absolute_error: 1.0144\n",
      "Epoch 41/50\n",
      "11990/11990 [==============================] - 2s 141us/step - loss: 1.0284 - mean_absolute_error: 1.0284 - val_loss: 1.0133 - val_mean_absolute_error: 1.0133\n",
      "Epoch 42/50\n",
      "11990/11990 [==============================] - 2s 157us/step - loss: 1.0223 - mean_absolute_error: 1.0223 - val_loss: 1.0109 - val_mean_absolute_error: 1.0109\n",
      "Epoch 43/50\n",
      "11990/11990 [==============================] - 2s 144us/step - loss: 1.0224 - mean_absolute_error: 1.0224 - val_loss: 1.0051 - val_mean_absolute_error: 1.0051\n",
      "Epoch 44/50\n",
      "11990/11990 [==============================] - 2s 171us/step - loss: 1.0134 - mean_absolute_error: 1.0134 - val_loss: 1.0092 - val_mean_absolute_error: 1.0092\n",
      "Epoch 45/50\n",
      "11990/11990 [==============================] - 2s 149us/step - loss: 1.0028 - mean_absolute_error: 1.0028 - val_loss: 0.9905 - val_mean_absolute_error: 0.9905\n",
      "Epoch 46/50\n",
      "11990/11990 [==============================] - 2s 146us/step - loss: 0.9966 - mean_absolute_error: 0.9966 - val_loss: 0.9753 - val_mean_absolute_error: 0.9753\n",
      "Epoch 47/50\n",
      "11990/11990 [==============================] - 2s 140us/step - loss: 1.0006 - mean_absolute_error: 1.0006 - val_loss: 0.9869 - val_mean_absolute_error: 0.9869\n",
      "Epoch 48/50\n",
      "11990/11990 [==============================] - 2s 149us/step - loss: 0.9917 - mean_absolute_error: 0.9917 - val_loss: 0.9622 - val_mean_absolute_error: 0.9622\n",
      "Epoch 49/50\n",
      "11990/11990 [==============================] - 2s 141us/step - loss: 0.9809 - mean_absolute_error: 0.9809 - val_loss: 0.9723 - val_mean_absolute_error: 0.9723\n",
      "Epoch 50/50\n",
      "11990/11990 [==============================] - 2s 140us/step - loss: 0.9898 - mean_absolute_error: 0.9898 - val_loss: 0.9522 - val_mean_absolute_error: 0.9522\n",
      "2998/2998 [==============================] - 0s 77us/step\n"
     ]
    },
    {
     "data": {
      "text/plain": [
       "[0.9522136881639355, 0.9522136881639355]"
      ]
     },
     "execution_count": 185,
     "metadata": {},
     "output_type": "execute_result"
    }
   ],
   "source": [
    "nn = Sequential()\n",
    "\n",
    "# input layer\n",
    "nn.add(Dense(370, activation='relu', input_dim=(X_train.shape[1])))\n",
    "\n",
    "# hidden lyaers\n",
    "nn.add(Dropout(0.5))\n",
    "nn.add(Dense(256, activation='relu'))\n",
    "nn.add(Dropout(0.5))\n",
    "nn.add(Dense(128, activation='relu'))\n",
    "nn.add(Dropout(0.5))\n",
    "nn.add(Dense(64, activation='relu'))\n",
    "nn.add(Dropout(0.5))\n",
    "nn.add(Dense(32, activation='relu'))\n",
    "nn.add(Dropout(0.5))\n",
    "nn.add(Dense(4, activation='relu'))\n",
    "\n",
    "# output layer\n",
    "nn.add(Dense(1,activation='linear'))\n",
    "\n",
    "nn.compile(loss=keras.losses.mean_absolute_error, optimizer=keras.optimizers.Adam(), metrics=['mae'])\n",
    "\n",
    "trained = nn.fit(X_train, y_train, batch_size=64,epochs=50,verbose=1,validation_data=(X_test, y_test))\n",
    "\n",
    "nn.evaluate(X_test, y_test)"
   ]
  },
  {
   "cell_type": "code",
   "execution_count": 186,
   "metadata": {},
   "outputs": [],
   "source": [
    "y_predict = nn.predict(X_test)"
   ]
  },
  {
   "cell_type": "code",
   "execution_count": 187,
   "metadata": {},
   "outputs": [
    {
     "data": {
      "text/plain": [
       "array([[<matplotlib.axes._subplots.AxesSubplot object at 0x0000023DDD0275C0>]],\n",
       "      dtype=object)"
      ]
     },
     "execution_count": 187,
     "metadata": {},
     "output_type": "execute_result"
    },
    {
     "data": {
      "image/png": "[encoded data removed]",
      "text/plain": [
       "<Figure size 432x288 with 1 Axes>"
      ]
     },
     "metadata": {},
     "output_type": "display_data"
    }
   ],
   "source": [
    "y_predict = y_predict.reshape((1,-1)).round()[0]\n",
    "pd.DataFrame(y_predict).hist()"
   ]
  },
  {
   "cell_type": "code",
   "execution_count": 188,
   "metadata": {},
   "outputs": [
    {
     "data": {
      "text/plain": [
       "0.15522688838956833"
      ]
     },
     "execution_count": 188,
     "metadata": {},
     "output_type": "execute_result"
    }
   ],
   "source": [
    "quadratic_weighted_kappa.quadratic_weighted_kappa(y_predict, y_test)"
   ]
  },
  {
   "cell_type": "code",
   "execution_count": 189,
   "metadata": {},
   "outputs": [],
   "source": [
    "y_predict = nn.predict(X_test)"
   ]
  },
  {
   "cell_type": "code",
   "execution_count": 190,
   "metadata": {},
   "outputs": [
    {
     "data": {
      "text/plain": [
       "array([[2.0268319],\n",
       "       [2.026585 ],\n",
       "       [2.0313668],\n",
       "       ...,\n",
       "       [2.024459 ],\n",
       "       [2.9444447],\n",
       "       [2.0250626]], dtype=float32)"
      ]
     },
     "execution_count": 190,
     "metadata": {},
     "output_type": "execute_result"
    }
   ],
   "source": [
    "y_predict"
   ]
  },
  {
   "cell_type": "code",
   "execution_count": 191,
   "metadata": {},
   "outputs": [
    {
     "data": {
      "text/plain": [
       "array([[<matplotlib.axes._subplots.AxesSubplot object at 0x0000023DCF488668>]],\n",
       "      dtype=object)"
      ]
     },
     "execution_count": 191,
     "metadata": {},
     "output_type": "execute_result"
    },
    {
     "data": {
      "image/png": "[encoded data removed]",
      "text/plain": [
       "<Figure size 432x288 with 1 Axes>"
      ]
     },
     "metadata": {},
     "output_type": "display_data"
    }
   ],
   "source": [
    "pd.DataFrame(y_predict).hist(bins=10)"
   ]
  },
  {
   "cell_type": "code",
   "execution_count": 192,
   "metadata": {},
   "outputs": [
    {
     "data": {
      "text/plain": [
       "array([[1.],\n",
       "       [1.],\n",
       "       [1.],\n",
       "       ...,\n",
       "       [1.],\n",
       "       [3.],\n",
       "       [1.]], dtype=float32)"
      ]
     },
     "execution_count": 192,
     "metadata": {},
     "output_type": "execute_result"
    }
   ],
   "source": [
    "y_predict_2 = y_predict.copy()\n",
    "y_predict_2[y_predict>2] = 1\n",
    "y_predict_2[y_predict>2.04] = 2\n",
    "y_predict_2[y_predict>2.4] = 3\n",
    "y_predict_2[y_predict>3.009] = 4\n",
    "y_predict_2"
   ]
  },
  {
   "cell_type": "code",
   "execution_count": 193,
   "metadata": {},
   "outputs": [
    {
     "data": {
      "text/plain": [
       "array([[<matplotlib.axes._subplots.AxesSubplot object at 0x0000023DDD30B080>]],\n",
       "      dtype=object)"
      ]
     },
     "execution_count": 193,
     "metadata": {},
     "output_type": "execute_result"
    },
    {
     "data": {
      "image/png": "[encoded data removed]",
      "text/plain": [
       "<Figure size 432x288 with 1 Axes>"
      ]
     },
     "metadata": {},
     "output_type": "display_data"
    }
   ],
   "source": [
    "y_predict_2 = y_predict_2.reshape((1,-1)).round()[0]\n",
    "pd.DataFrame(y_predict_2).hist()"
   ]
  },
  {
   "cell_type": "code",
   "execution_count": 194,
   "metadata": {},
   "outputs": [
    {
     "data": {
      "text/plain": [
       "0.19026808739250578"
      ]
     },
     "execution_count": 194,
     "metadata": {},
     "output_type": "execute_result"
    }
   ],
   "source": [
    "quadratic_weighted_kappa.quadratic_weighted_kappa(y_predict_2, y_test)"
   ]
  },
  {
   "cell_type": "code",
   "execution_count": null,
   "metadata": {},
   "outputs": [],
   "source": []
  },
  {
   "cell_type": "code",
   "execution_count": null,
   "metadata": {},
   "outputs": [],
   "source": []
  },
  {
   "cell_type": "code",
   "execution_count": null,
   "metadata": {},
   "outputs": [],
   "source": []
  }
 ],
 "metadata": {
  "kernelspec": {
   "display_name": "Python 3",
   "language": "python",
   "name": "python3"
  },
  "language_info": {
   "codemirror_mode": {
    "name": "ipython",
    "version": 3
   },
   "file_extension": ".py",
   "mimetype": "text/x-python",
   "name": "python",
   "nbconvert_exporter": "python",
   "pygments_lexer": "ipython3",
   "version": "3.6.5"
  }
 },
 "nbformat": 4,
 "nbformat_minor": 2
}
